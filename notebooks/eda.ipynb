{
 "cells": [
  {
   "cell_type": "code",
   "execution_count": 17,
   "metadata": {},
   "outputs": [
    {
     "data": {
      "text/html": [
       "<pre style=\"white-space:pre;overflow-x:auto;line-height:normal;font-family:Menlo,'DejaVu Sans Mono',consolas,'Courier New',monospace\"><span style=\"color: #7fbfbf; text-decoration-color: #7fbfbf\">[01/11/25 22:55:19] </span><span style=\"color: #000080; text-decoration-color: #000080\">INFO    </span> Registered line magic <span style=\"color: #008000; text-decoration-color: #008000\">'%reload_kedro'</span>                                   <a href=\"file:///Users/zofiab/Documents/2024-2025/ML_project/House_prices/ML/venv/lib/python3.9/site-packages/kedro/ipython/__init__.py\" target=\"_blank\"><span style=\"color: #7f7f7f; text-decoration-color: #7f7f7f\">__init__.py</span></a><span style=\"color: #7f7f7f; text-decoration-color: #7f7f7f\">:</span><a href=\"file:///Users/zofiab/Documents/2024-2025/ML_project/House_prices/ML/venv/lib/python3.9/site-packages/kedro/ipython/__init__.py#61\" target=\"_blank\"><span style=\"color: #7f7f7f; text-decoration-color: #7f7f7f\">61</span></a>\n",
       "</pre>\n"
      ],
      "text/plain": [
       "\u001b[2;36m[01/11/25 22:55:19]\u001b[0m\u001b[2;36m \u001b[0m\u001b[34mINFO    \u001b[0m Registered line magic \u001b[32m'%reload_kedro'\u001b[0m                                   \u001b]8;id=616250;file:///Users/zofiab/Documents/2024-2025/ML_project/House_prices/ML/venv/lib/python3.9/site-packages/kedro/ipython/__init__.py\u001b\\\u001b[2m__init__.py\u001b[0m\u001b]8;;\u001b\\\u001b[2m:\u001b[0m\u001b]8;id=847905;file:///Users/zofiab/Documents/2024-2025/ML_project/House_prices/ML/venv/lib/python3.9/site-packages/kedro/ipython/__init__.py#61\u001b\\\u001b[2m61\u001b[0m\u001b]8;;\u001b\\\n"
      ]
     },
     "metadata": {},
     "output_type": "display_data"
    },
    {
     "data": {
      "text/html": [
       "<pre style=\"white-space:pre;overflow-x:auto;line-height:normal;font-family:Menlo,'DejaVu Sans Mono',consolas,'Courier New',monospace\"><span style=\"color: #7fbfbf; text-decoration-color: #7fbfbf\">                    </span><span style=\"color: #000080; text-decoration-color: #000080\">INFO    </span> Registered line magic <span style=\"color: #008000; text-decoration-color: #008000\">'%load_node'</span>                                      <a href=\"file:///Users/zofiab/Documents/2024-2025/ML_project/House_prices/ML/venv/lib/python3.9/site-packages/kedro/ipython/__init__.py\" target=\"_blank\"><span style=\"color: #7f7f7f; text-decoration-color: #7f7f7f\">__init__.py</span></a><span style=\"color: #7f7f7f; text-decoration-color: #7f7f7f\">:</span><a href=\"file:///Users/zofiab/Documents/2024-2025/ML_project/House_prices/ML/venv/lib/python3.9/site-packages/kedro/ipython/__init__.py#63\" target=\"_blank\"><span style=\"color: #7f7f7f; text-decoration-color: #7f7f7f\">63</span></a>\n",
       "</pre>\n"
      ],
      "text/plain": [
       "\u001b[2;36m                   \u001b[0m\u001b[2;36m \u001b[0m\u001b[34mINFO    \u001b[0m Registered line magic \u001b[32m'%load_node'\u001b[0m                                      \u001b]8;id=136767;file:///Users/zofiab/Documents/2024-2025/ML_project/House_prices/ML/venv/lib/python3.9/site-packages/kedro/ipython/__init__.py\u001b\\\u001b[2m__init__.py\u001b[0m\u001b]8;;\u001b\\\u001b[2m:\u001b[0m\u001b]8;id=988430;file:///Users/zofiab/Documents/2024-2025/ML_project/House_prices/ML/venv/lib/python3.9/site-packages/kedro/ipython/__init__.py#63\u001b\\\u001b[2m63\u001b[0m\u001b]8;;\u001b\\\n"
      ]
     },
     "metadata": {},
     "output_type": "display_data"
    },
    {
     "data": {
      "text/html": [
       "<pre style=\"white-space:pre;overflow-x:auto;line-height:normal;font-family:Menlo,'DejaVu Sans Mono',consolas,'Courier New',monospace\"><span style=\"color: #7fbfbf; text-decoration-color: #7fbfbf\">                    </span><span style=\"color: #000080; text-decoration-color: #000080\">INFO    </span> Resolved project path as:                                              <a href=\"file:///Users/zofiab/Documents/2024-2025/ML_project/House_prices/ML/venv/lib/python3.9/site-packages/kedro/ipython/__init__.py\" target=\"_blank\"><span style=\"color: #7f7f7f; text-decoration-color: #7f7f7f\">__init__.py</span></a><span style=\"color: #7f7f7f; text-decoration-color: #7f7f7f\">:</span><a href=\"file:///Users/zofiab/Documents/2024-2025/ML_project/House_prices/ML/venv/lib/python3.9/site-packages/kedro/ipython/__init__.py#178\" target=\"_blank\"><span style=\"color: #7f7f7f; text-decoration-color: #7f7f7f\">178</span></a>\n",
       "<span style=\"color: #7fbfbf; text-decoration-color: #7fbfbf\">                    </span>         <span style=\"color: #800080; text-decoration-color: #800080\">/Users/zofiab/Documents/2024-2025/ML_project/House_prices/</span><span style=\"color: #ff00ff; text-decoration-color: #ff00ff\">ML.</span>          <span style=\"color: #7f7f7f; text-decoration-color: #7f7f7f\">               </span>\n",
       "<span style=\"color: #7fbfbf; text-decoration-color: #7fbfbf\">                    </span>         To set a different path, run <span style=\"color: #008000; text-decoration-color: #008000\">'%reload_kedro &lt;project_root&gt;'</span>            <span style=\"color: #7f7f7f; text-decoration-color: #7f7f7f\">               </span>\n",
       "</pre>\n"
      ],
      "text/plain": [
       "\u001b[2;36m                   \u001b[0m\u001b[2;36m \u001b[0m\u001b[34mINFO    \u001b[0m Resolved project path as:                                              \u001b]8;id=117095;file:///Users/zofiab/Documents/2024-2025/ML_project/House_prices/ML/venv/lib/python3.9/site-packages/kedro/ipython/__init__.py\u001b\\\u001b[2m__init__.py\u001b[0m\u001b]8;;\u001b\\\u001b[2m:\u001b[0m\u001b]8;id=354068;file:///Users/zofiab/Documents/2024-2025/ML_project/House_prices/ML/venv/lib/python3.9/site-packages/kedro/ipython/__init__.py#178\u001b\\\u001b[2m178\u001b[0m\u001b]8;;\u001b\\\n",
       "\u001b[2;36m                    \u001b[0m         \u001b[35m/Users/zofiab/Documents/2024-2025/ML_project/House_prices/\u001b[0m\u001b[95mML.\u001b[0m          \u001b[2m               \u001b[0m\n",
       "\u001b[2;36m                    \u001b[0m         To set a different path, run \u001b[32m'%reload_kedro \u001b[0m\u001b[32m<\u001b[0m\u001b[32mproject_root\u001b[0m\u001b[32m>\u001b[0m\u001b[32m'\u001b[0m            \u001b[2m               \u001b[0m\n"
      ]
     },
     "metadata": {},
     "output_type": "display_data"
    },
    {
     "data": {
      "text/html": [
       "<pre style=\"white-space:pre;overflow-x:auto;line-height:normal;font-family:Menlo,'DejaVu Sans Mono',consolas,'Courier New',monospace\"><span style=\"color: #7fbfbf; text-decoration-color: #7fbfbf\">                    </span><span style=\"color: #000080; text-decoration-color: #000080\">INFO    </span> Kedro is sending anonymous usage data with the sole purpose of improving <a href=\"file:///Users/zofiab/Documents/2024-2025/ML_project/House_prices/ML/venv/lib/python3.9/site-packages/kedro_telemetry/plugin.py\" target=\"_blank\"><span style=\"color: #7f7f7f; text-decoration-color: #7f7f7f\">plugin.py</span></a><span style=\"color: #7f7f7f; text-decoration-color: #7f7f7f\">:</span><a href=\"file:///Users/zofiab/Documents/2024-2025/ML_project/House_prices/ML/venv/lib/python3.9/site-packages/kedro_telemetry/plugin.py#233\" target=\"_blank\"><span style=\"color: #7f7f7f; text-decoration-color: #7f7f7f\">233</span></a>\n",
       "<span style=\"color: #7fbfbf; text-decoration-color: #7fbfbf\">                    </span>         the product. No personal data or IP addresses are stored on our side. If <span style=\"color: #7f7f7f; text-decoration-color: #7f7f7f\">             </span>\n",
       "<span style=\"color: #7fbfbf; text-decoration-color: #7fbfbf\">                    </span>         you want to opt out, set the `KEDRO_DISABLE_TELEMETRY` or `DO_NOT_TRACK` <span style=\"color: #7f7f7f; text-decoration-color: #7f7f7f\">             </span>\n",
       "<span style=\"color: #7fbfbf; text-decoration-color: #7fbfbf\">                    </span>         environment variables, or create a `.telemetry` file in the current      <span style=\"color: #7f7f7f; text-decoration-color: #7f7f7f\">             </span>\n",
       "<span style=\"color: #7fbfbf; text-decoration-color: #7fbfbf\">                    </span>         working directory with the contents `consent: false`. Read more at       <span style=\"color: #7f7f7f; text-decoration-color: #7f7f7f\">             </span>\n",
       "<span style=\"color: #7fbfbf; text-decoration-color: #7fbfbf\">                    </span>         <span style=\"color: #0000ff; text-decoration-color: #0000ff; text-decoration: underline\">https://docs.kedro.org/en/stable/configuration/telemetry.html</span>            <span style=\"color: #7f7f7f; text-decoration-color: #7f7f7f\">             </span>\n",
       "</pre>\n"
      ],
      "text/plain": [
       "\u001b[2;36m                   \u001b[0m\u001b[2;36m \u001b[0m\u001b[34mINFO    \u001b[0m Kedro is sending anonymous usage data with the sole purpose of improving \u001b]8;id=78881;file:///Users/zofiab/Documents/2024-2025/ML_project/House_prices/ML/venv/lib/python3.9/site-packages/kedro_telemetry/plugin.py\u001b\\\u001b[2mplugin.py\u001b[0m\u001b]8;;\u001b\\\u001b[2m:\u001b[0m\u001b]8;id=61958;file:///Users/zofiab/Documents/2024-2025/ML_project/House_prices/ML/venv/lib/python3.9/site-packages/kedro_telemetry/plugin.py#233\u001b\\\u001b[2m233\u001b[0m\u001b]8;;\u001b\\\n",
       "\u001b[2;36m                    \u001b[0m         the product. No personal data or IP addresses are stored on our side. If \u001b[2m             \u001b[0m\n",
       "\u001b[2;36m                    \u001b[0m         you want to opt out, set the `KEDRO_DISABLE_TELEMETRY` or `DO_NOT_TRACK` \u001b[2m             \u001b[0m\n",
       "\u001b[2;36m                    \u001b[0m         environment variables, or create a `.telemetry` file in the current      \u001b[2m             \u001b[0m\n",
       "\u001b[2;36m                    \u001b[0m         working directory with the contents `consent: false`. Read more at       \u001b[2m             \u001b[0m\n",
       "\u001b[2;36m                    \u001b[0m         \u001b[4;94mhttps://docs.kedro.org/en/stable/configuration/telemetry.html\u001b[0m            \u001b[2m             \u001b[0m\n"
      ]
     },
     "metadata": {},
     "output_type": "display_data"
    },
    {
     "data": {
      "text/html": [
       "<pre style=\"white-space:pre;overflow-x:auto;line-height:normal;font-family:Menlo,'DejaVu Sans Mono',consolas,'Courier New',monospace\"><span style=\"color: #7fbfbf; text-decoration-color: #7fbfbf\">[01/11/25 22:55:20] </span><span style=\"color: #000080; text-decoration-color: #000080\">INFO    </span> Kedro project ml_house_prices                                          <a href=\"file:///Users/zofiab/Documents/2024-2025/ML_project/House_prices/ML/venv/lib/python3.9/site-packages/kedro/ipython/__init__.py\" target=\"_blank\"><span style=\"color: #7f7f7f; text-decoration-color: #7f7f7f\">__init__.py</span></a><span style=\"color: #7f7f7f; text-decoration-color: #7f7f7f\">:</span><a href=\"file:///Users/zofiab/Documents/2024-2025/ML_project/House_prices/ML/venv/lib/python3.9/site-packages/kedro/ipython/__init__.py#144\" target=\"_blank\"><span style=\"color: #7f7f7f; text-decoration-color: #7f7f7f\">144</span></a>\n",
       "</pre>\n"
      ],
      "text/plain": [
       "\u001b[2;36m[01/11/25 22:55:20]\u001b[0m\u001b[2;36m \u001b[0m\u001b[34mINFO    \u001b[0m Kedro project ml_house_prices                                          \u001b]8;id=264891;file:///Users/zofiab/Documents/2024-2025/ML_project/House_prices/ML/venv/lib/python3.9/site-packages/kedro/ipython/__init__.py\u001b\\\u001b[2m__init__.py\u001b[0m\u001b]8;;\u001b\\\u001b[2m:\u001b[0m\u001b]8;id=721199;file:///Users/zofiab/Documents/2024-2025/ML_project/House_prices/ML/venv/lib/python3.9/site-packages/kedro/ipython/__init__.py#144\u001b\\\u001b[2m144\u001b[0m\u001b]8;;\u001b\\\n"
      ]
     },
     "metadata": {},
     "output_type": "display_data"
    },
    {
     "data": {
      "text/html": [
       "<pre style=\"white-space:pre;overflow-x:auto;line-height:normal;font-family:Menlo,'DejaVu Sans Mono',consolas,'Courier New',monospace\"><span style=\"color: #7fbfbf; text-decoration-color: #7fbfbf\">                    </span><span style=\"color: #000080; text-decoration-color: #000080\">INFO    </span> Defined global variable <span style=\"color: #008000; text-decoration-color: #008000\">'context'</span>, <span style=\"color: #008000; text-decoration-color: #008000\">'session'</span>, <span style=\"color: #008000; text-decoration-color: #008000\">'catalog'</span> and            <a href=\"file:///Users/zofiab/Documents/2024-2025/ML_project/House_prices/ML/venv/lib/python3.9/site-packages/kedro/ipython/__init__.py\" target=\"_blank\"><span style=\"color: #7f7f7f; text-decoration-color: #7f7f7f\">__init__.py</span></a><span style=\"color: #7f7f7f; text-decoration-color: #7f7f7f\">:</span><a href=\"file:///Users/zofiab/Documents/2024-2025/ML_project/House_prices/ML/venv/lib/python3.9/site-packages/kedro/ipython/__init__.py#145\" target=\"_blank\"><span style=\"color: #7f7f7f; text-decoration-color: #7f7f7f\">145</span></a>\n",
       "<span style=\"color: #7fbfbf; text-decoration-color: #7fbfbf\">                    </span>         <span style=\"color: #008000; text-decoration-color: #008000\">'pipelines'</span>                                                            <span style=\"color: #7f7f7f; text-decoration-color: #7f7f7f\">               </span>\n",
       "</pre>\n"
      ],
      "text/plain": [
       "\u001b[2;36m                   \u001b[0m\u001b[2;36m \u001b[0m\u001b[34mINFO    \u001b[0m Defined global variable \u001b[32m'context'\u001b[0m, \u001b[32m'session'\u001b[0m, \u001b[32m'catalog'\u001b[0m and            \u001b]8;id=917852;file:///Users/zofiab/Documents/2024-2025/ML_project/House_prices/ML/venv/lib/python3.9/site-packages/kedro/ipython/__init__.py\u001b\\\u001b[2m__init__.py\u001b[0m\u001b]8;;\u001b\\\u001b[2m:\u001b[0m\u001b]8;id=424033;file:///Users/zofiab/Documents/2024-2025/ML_project/House_prices/ML/venv/lib/python3.9/site-packages/kedro/ipython/__init__.py#145\u001b\\\u001b[2m145\u001b[0m\u001b]8;;\u001b\\\n",
       "\u001b[2;36m                    \u001b[0m         \u001b[32m'pipelines'\u001b[0m                                                            \u001b[2m               \u001b[0m\n"
      ]
     },
     "metadata": {},
     "output_type": "display_data"
    },
    {
     "data": {
      "text/html": [
       "<pre style=\"white-space:pre;overflow-x:auto;line-height:normal;font-family:Menlo,'DejaVu Sans Mono',consolas,'Courier New',monospace\"><span style=\"color: #7fbfbf; text-decoration-color: #7fbfbf\">                    </span><span style=\"color: #000080; text-decoration-color: #000080\">INFO    </span> Registered line magic <span style=\"color: #008000; text-decoration-color: #008000\">'run_viz'</span>                                        <a href=\"file:///Users/zofiab/Documents/2024-2025/ML_project/House_prices/ML/venv/lib/python3.9/site-packages/kedro/ipython/__init__.py\" target=\"_blank\"><span style=\"color: #7f7f7f; text-decoration-color: #7f7f7f\">__init__.py</span></a><span style=\"color: #7f7f7f; text-decoration-color: #7f7f7f\">:</span><a href=\"file:///Users/zofiab/Documents/2024-2025/ML_project/House_prices/ML/venv/lib/python3.9/site-packages/kedro/ipython/__init__.py#151\" target=\"_blank\"><span style=\"color: #7f7f7f; text-decoration-color: #7f7f7f\">151</span></a>\n",
       "</pre>\n"
      ],
      "text/plain": [
       "\u001b[2;36m                   \u001b[0m\u001b[2;36m \u001b[0m\u001b[34mINFO    \u001b[0m Registered line magic \u001b[32m'run_viz'\u001b[0m                                        \u001b]8;id=600069;file:///Users/zofiab/Documents/2024-2025/ML_project/House_prices/ML/venv/lib/python3.9/site-packages/kedro/ipython/__init__.py\u001b\\\u001b[2m__init__.py\u001b[0m\u001b]8;;\u001b\\\u001b[2m:\u001b[0m\u001b]8;id=624858;file:///Users/zofiab/Documents/2024-2025/ML_project/House_prices/ML/venv/lib/python3.9/site-packages/kedro/ipython/__init__.py#151\u001b\\\u001b[2m151\u001b[0m\u001b]8;;\u001b\\\n"
      ]
     },
     "metadata": {},
     "output_type": "display_data"
    }
   ],
   "source": [
    "# %load_ext kedro.ipython\n",
    "%reload_ext kedro.ipython"
   ]
  },
  {
   "cell_type": "code",
   "execution_count": 18,
   "metadata": {},
   "outputs": [
    {
     "data": {
      "text/html": [
       "<pre style=\"white-space:pre;overflow-x:auto;line-height:normal;font-family:Menlo,'DejaVu Sans Mono',consolas,'Courier New',monospace\"></pre>\n"
      ],
      "text/plain": []
     },
     "metadata": {},
     "output_type": "display_data"
    },
    {
     "data": {
      "text/plain": [
       "\n",
       "\u001b[1m[\u001b[0m\n",
       "    \u001b[32m'house_prices'\u001b[0m,\n",
       "    \u001b[32m'HP_train'\u001b[0m,\n",
       "    \u001b[32m'HP_y_train'\u001b[0m,\n",
       "    \u001b[32m'HP_test'\u001b[0m,\n",
       "    \u001b[32m'HP_y_test'\u001b[0m,\n",
       "    \u001b[32m'X_test'\u001b[0m,\n",
       "    \u001b[32m'X_train'\u001b[0m,\n",
       "    \u001b[32m'Y_train'\u001b[0m,\n",
       "    \u001b[32m'Y_test'\u001b[0m,\n",
       "    \u001b[32m'data'\u001b[0m,\n",
       "    \u001b[32m'parameters'\u001b[0m,\n",
       "    \u001b[32m'params:random_state'\u001b[0m,\n",
       "    \u001b[32m'params:splitting'\u001b[0m,\n",
       "    \u001b[32m'params:splitting.test_size'\u001b[0m,\n",
       "    \u001b[32m'params:splitting.target_column'\u001b[0m,\n",
       "    \u001b[32m'params:splitting.column_to_drop'\u001b[0m,\n",
       "    \u001b[32m'params:processing'\u001b[0m,\n",
       "    \u001b[32m'params:processing.encoding'\u001b[0m,\n",
       "    \u001b[32m'params:processing.encoding.catboost'\u001b[0m,\n",
       "    \u001b[32m'params:processing.encoding.one_hot'\u001b[0m\n",
       "\u001b[1m]\u001b[0m"
      ]
     },
     "execution_count": 18,
     "metadata": {},
     "output_type": "execute_result"
    }
   ],
   "source": [
    "catalog.list()"
   ]
  },
  {
   "cell_type": "code",
   "execution_count": 15,
   "metadata": {},
   "outputs": [],
   "source": [
    "import numpy as np\n",
    "import pandas as pd\n",
    "import seaborn as sns\n",
    "import matplotlib.pyplot as plt\n",
    "from sklearn.preprocessing import StandardScaler"
   ]
  },
  {
   "cell_type": "code",
   "execution_count": 20,
   "metadata": {},
   "outputs": [
    {
     "data": {
      "text/html": [
       "<pre style=\"white-space:pre;overflow-x:auto;line-height:normal;font-family:Menlo,'DejaVu Sans Mono',consolas,'Courier New',monospace\"><span style=\"color: #7fbfbf; text-decoration-color: #7fbfbf\">[01/11/25 22:56:30] </span><span style=\"color: #000080; text-decoration-color: #000080\">INFO    </span> Loading data from <span style=\"color: #ff8700; text-decoration-color: #ff8700\">HP_train</span> <span style=\"font-weight: bold\">(</span>CSVDataset<span style=\"font-weight: bold\">)</span><span style=\"color: #808000; text-decoration-color: #808000\">...</span>                         <a href=\"file:///Users/zofiab/Documents/2024-2025/ML_project/House_prices/ML/venv/lib/python3.9/site-packages/kedro/io/data_catalog.py\" target=\"_blank\"><span style=\"color: #7f7f7f; text-decoration-color: #7f7f7f\">data_catalog.py</span></a><span style=\"color: #7f7f7f; text-decoration-color: #7f7f7f\">:</span><a href=\"file:///Users/zofiab/Documents/2024-2025/ML_project/House_prices/ML/venv/lib/python3.9/site-packages/kedro/io/data_catalog.py#389\" target=\"_blank\"><span style=\"color: #7f7f7f; text-decoration-color: #7f7f7f\">389</span></a>\n",
       "</pre>\n"
      ],
      "text/plain": [
       "\u001b[2;36m[01/11/25 22:56:30]\u001b[0m\u001b[2;36m \u001b[0m\u001b[34mINFO    \u001b[0m Loading data from \u001b[38;5;208mHP_train\u001b[0m \u001b[1m(\u001b[0mCSVDataset\u001b[1m)\u001b[0m\u001b[33m...\u001b[0m                         \u001b]8;id=432566;file:///Users/zofiab/Documents/2024-2025/ML_project/House_prices/ML/venv/lib/python3.9/site-packages/kedro/io/data_catalog.py\u001b\\\u001b[2mdata_catalog.py\u001b[0m\u001b]8;;\u001b\\\u001b[2m:\u001b[0m\u001b]8;id=243982;file:///Users/zofiab/Documents/2024-2025/ML_project/House_prices/ML/venv/lib/python3.9/site-packages/kedro/io/data_catalog.py#389\u001b\\\u001b[2m389\u001b[0m\u001b]8;;\u001b\\\n"
      ]
     },
     "metadata": {},
     "output_type": "display_data"
    }
   ],
   "source": [
    "X_train = catalog.load('HP_train')"
   ]
  },
  {
   "cell_type": "code",
   "execution_count": 25,
   "metadata": {},
   "outputs": [
    {
     "data": {
      "text/html": [
       "<pre style=\"white-space:pre;overflow-x:auto;line-height:normal;font-family:Menlo,'DejaVu Sans Mono',consolas,'Courier New',monospace\"></pre>\n"
      ],
      "text/plain": []
     },
     "metadata": {},
     "output_type": "display_data"
    },
    {
     "data": {
      "text/plain": [
       "\n",
       "\u001b[1;35mIndex\u001b[0m\u001b[1m(\u001b[0m\u001b[1m[\u001b[0m\u001b[32m'date'\u001b[0m, \u001b[32m'quarter'\u001b[0m, \u001b[32m'house_type'\u001b[0m, \u001b[32m'sales_type'\u001b[0m, \u001b[32m'year_build'\u001b[0m,\n",
       "       \u001b[32m'%_change_between_offer_and_purchase'\u001b[0m, \u001b[32m'no_rooms'\u001b[0m, \u001b[32m'sqm'\u001b[0m, \u001b[32m'sqm_price'\u001b[0m,\n",
       "       \u001b[32m'address'\u001b[0m, \u001b[32m'zip_code'\u001b[0m, \u001b[32m'city'\u001b[0m, \u001b[32m'area'\u001b[0m, \u001b[32m'region'\u001b[0m, \u001b[32m'nom_interest_rate%'\u001b[0m,\n",
       "       \u001b[32m'dk_ann_infl_rate%'\u001b[0m, \u001b[32m'yield_on_mortgage_credit_bonds%'\u001b[0m\u001b[1m]\u001b[0m,\n",
       "      \u001b[33mdtype\u001b[0m=\u001b[32m'object'\u001b[0m\u001b[1m)\u001b[0m"
      ]
     },
     "execution_count": 25,
     "metadata": {},
     "output_type": "execute_result"
    }
   ],
   "source": [
    "X_train.columns"
   ]
  },
  {
   "cell_type": "code",
   "execution_count": 41,
   "metadata": {},
   "outputs": [
    {
     "data": {
      "text/html": [
       "<pre style=\"white-space:pre;overflow-x:auto;line-height:normal;font-family:Menlo,'DejaVu Sans Mono',consolas,'Courier New',monospace\"></pre>\n"
      ],
      "text/plain": []
     },
     "metadata": {},
     "output_type": "display_data"
    },
    {
     "data": {
      "text/plain": [
       "\n",
       "\u001b[1;35marray\u001b[0m\u001b[1m(\u001b[0m\u001b[1m[\u001b[0m\u001b[1;36m2820\u001b[0m, \u001b[1;36m4540\u001b[0m, \u001b[1;36m9370\u001b[0m, \u001b[1;36m6705\u001b[0m, \u001b[1;36m6740\u001b[0m, \u001b[1;36m6000\u001b[0m, \u001b[1;36m6700\u001b[0m, \u001b[1;36m2800\u001b[0m, \u001b[1;36m6900\u001b[0m, \u001b[1;36m7400\u001b[0m, \u001b[1;36m4320\u001b[0m,\n",
       "       \u001b[1;36m8930\u001b[0m, \u001b[1;36m8270\u001b[0m, \u001b[1;36m9800\u001b[0m, \u001b[1;36m4690\u001b[0m, \u001b[1;36m7100\u001b[0m, \u001b[1;36m3520\u001b[0m, \u001b[1;36m2300\u001b[0m, \u001b[1;36m7830\u001b[0m, \u001b[1;36m9500\u001b[0m, \u001b[1;36m2605\u001b[0m, \u001b[1;36m4220\u001b[0m,\n",
       "       \u001b[1;36m2450\u001b[0m, \u001b[1;36m4700\u001b[0m, \u001b[1;36m5471\u001b[0m, \u001b[1;36m2600\u001b[0m, \u001b[1;36m4100\u001b[0m, \u001b[1;36m6200\u001b[0m, \u001b[1;36m5683\u001b[0m, \u001b[1;36m1960\u001b[0m, \u001b[1;36m2700\u001b[0m, \u001b[1;36m2860\u001b[0m, \u001b[1;36m4000\u001b[0m,\n",
       "       \u001b[1;36m8800\u001b[0m, \u001b[1;36m8653\u001b[0m, \u001b[1;36m8350\u001b[0m, \u001b[1;36m8450\u001b[0m, \u001b[1;36m4040\u001b[0m, \u001b[1;36m9700\u001b[0m, \u001b[1;36m4873\u001b[0m, \u001b[1;36m5400\u001b[0m, \u001b[1;36m3500\u001b[0m, \u001b[1;36m9400\u001b[0m, \u001b[1;36m2950\u001b[0m,\n",
       "       \u001b[1;36m5620\u001b[0m, \u001b[1;36m8832\u001b[0m, \u001b[1;36m3730\u001b[0m, \u001b[1;36m6840\u001b[0m, \u001b[1;36m7770\u001b[0m, \u001b[1;36m7700\u001b[0m, \u001b[1;36m2200\u001b[0m, \u001b[1;36m2840\u001b[0m, \u001b[1;36m9560\u001b[0m, \u001b[1;36m9740\u001b[0m, \u001b[1;36m5250\u001b[0m,\n",
       "       \u001b[1;36m8722\u001b[0m, \u001b[1;36m6950\u001b[0m, \u001b[1;36m3330\u001b[0m, \u001b[1;36m4180\u001b[0m, \u001b[1;36m3650\u001b[0m, \u001b[1;36m6720\u001b[0m, \u001b[1;36m6270\u001b[0m, \u001b[1;36m3390\u001b[0m, \u001b[1;36m9300\u001b[0m, \u001b[1;36m8000\u001b[0m, \u001b[1;36m7160\u001b[0m,\n",
       "       \u001b[1;36m5800\u001b[0m, \u001b[1;36m6670\u001b[0m, \u001b[1;36m4500\u001b[0m, \u001b[1;36m4050\u001b[0m, \u001b[1;36m5871\u001b[0m, \u001b[1;36m5500\u001b[0m, \u001b[1;36m4621\u001b[0m, \u001b[1;36m6893\u001b[0m, \u001b[1;36m8960\u001b[0m, \u001b[1;36m3210\u001b[0m, \u001b[1;36m5960\u001b[0m,\n",
       "       \u001b[1;36m7080\u001b[0m, \u001b[1;36m6971\u001b[0m, \u001b[1;36m6800\u001b[0m, \u001b[1;36m5466\u001b[0m, \u001b[1;36m3700\u001b[0m, \u001b[1;36m5450\u001b[0m, \u001b[1;36m4581\u001b[0m, \u001b[1;36m1875\u001b[0m, \u001b[1;36m4874\u001b[0m, \u001b[1;36m6500\u001b[0m, \u001b[1;36m9640\u001b[0m,\n",
       "       \u001b[1;36m8963\u001b[0m, \u001b[1;36m4891\u001b[0m, \u001b[1;36m4930\u001b[0m, \u001b[1;36m6760\u001b[0m, \u001b[1;36m9530\u001b[0m, \u001b[1;36m8310\u001b[0m, \u001b[1;36m8920\u001b[0m, \u001b[1;36m8260\u001b[0m, \u001b[1;36m2960\u001b[0m, \u001b[1;36m5320\u001b[0m, \u001b[1;36m3060\u001b[0m,\n",
       "       \u001b[1;36m3300\u001b[0m, \u001b[1;36m6400\u001b[0m, \u001b[1;36m9280\u001b[0m, \u001b[1;36m3220\u001b[0m, \u001b[1;36m8500\u001b[0m, \u001b[1;36m2680\u001b[0m, \u001b[1;36m5600\u001b[0m, \u001b[1;36m4600\u001b[0m, \u001b[1;36m2100\u001b[0m, \u001b[1;36m4200\u001b[0m, \u001b[1;36m8680\u001b[0m,\n",
       "       \u001b[1;36m9330\u001b[0m, \u001b[1;36m9981\u001b[0m, \u001b[1;36m1418\u001b[0m, \u001b[1;36m8400\u001b[0m, \u001b[1;36m7760\u001b[0m, \u001b[1;36m7260\u001b[0m, \u001b[1;36m8620\u001b[0m, \u001b[1;36m7800\u001b[0m, \u001b[1;36m9900\u001b[0m, \u001b[1;36m3360\u001b[0m, \u001b[1;36m6100\u001b[0m,\n",
       "       \u001b[1;36m6300\u001b[0m, \u001b[1;36m5690\u001b[0m, \u001b[1;36m8600\u001b[0m, \u001b[1;36m8200\u001b[0m, \u001b[1;36m9220\u001b[0m, \u001b[1;36m4400\u001b[0m, \u001b[1;36m6280\u001b[0m, \u001b[1;36m2660\u001b[0m, \u001b[1;36m2625\u001b[0m, \u001b[1;36m5000\u001b[0m, \u001b[1;36m6340\u001b[0m,\n",
       "       \u001b[1;36m7840\u001b[0m, \u001b[1;36m9000\u001b[0m, \u001b[1;36m7300\u001b[0m, \u001b[1;36m8700\u001b[0m, \u001b[1;36m6823\u001b[0m, \u001b[1;36m8721\u001b[0m, \u001b[1;36m7620\u001b[0m, \u001b[1;36m2620\u001b[0m, \u001b[1;36m2850\u001b[0m, \u001b[1;36m9690\u001b[0m, \u001b[1;36m2000\u001b[0m,\n",
       "       \u001b[1;36m7960\u001b[0m, \u001b[1;36m2830\u001b[0m, \u001b[1;36m4682\u001b[0m, \u001b[1;36m4660\u001b[0m, \u001b[1;36m2720\u001b[0m, \u001b[1;36m9310\u001b[0m, \u001b[1;36m9320\u001b[0m, \u001b[1;36m7500\u001b[0m, \u001b[1;36m8830\u001b[0m, \u001b[1;36m4990\u001b[0m, \u001b[1;36m4262\u001b[0m,\n",
       "       \u001b[1;36m4160\u001b[0m, \u001b[1;36m3770\u001b[0m, \u001b[1;36m2730\u001b[0m, \u001b[1;36m6310\u001b[0m, \u001b[1;36m8831\u001b[0m, \u001b[1;36m2690\u001b[0m, \u001b[1;36m9200\u001b[0m, \u001b[1;36m4560\u001b[0m, \u001b[1;36m3310\u001b[0m, \u001b[1;36m4250\u001b[0m, \u001b[1;36m3460\u001b[0m,\n",
       "       \u001b[1;36m4230\u001b[0m, \u001b[1;36m6920\u001b[0m, \u001b[1;36m7600\u001b[0m, \u001b[1;36m5750\u001b[0m, \u001b[1;36m2650\u001b[0m, \u001b[1;36m7900\u001b[0m, \u001b[1;36m5700\u001b[0m, \u001b[1;36m5610\u001b[0m, \u001b[1;36m4632\u001b[0m, \u001b[1;36m8300\u001b[0m, \u001b[1;36m8420\u001b[0m,\n",
       "       \u001b[1;36m7673\u001b[0m, \u001b[1;36m4340\u001b[0m, \u001b[1;36m4070\u001b[0m, \u001b[1;36m2920\u001b[0m, \u001b[1;36m4960\u001b[0m, \u001b[1;36m8860\u001b[0m, \u001b[1;36m6960\u001b[0m, \u001b[1;36m9830\u001b[0m, \u001b[1;36m6792\u001b[0m, \u001b[1;36m3630\u001b[0m, \u001b[1;36m7130\u001b[0m,\n",
       "       \u001b[1;36m4653\u001b[0m, \u001b[1;36m8961\u001b[0m, \u001b[1;36m4900\u001b[0m, \u001b[1;36m4623\u001b[0m, \u001b[1;36m5230\u001b[0m, \u001b[1;36m4720\u001b[0m, \u001b[1;36m4300\u001b[0m, \u001b[1;36m9620\u001b[0m, \u001b[1;36m6854\u001b[0m, \u001b[1;36m8850\u001b[0m, \u001b[1;36m7000\u001b[0m,\n",
       "       \u001b[1;36m2630\u001b[0m, \u001b[1;36m4591\u001b[0m, \u001b[1;36m9480\u001b[0m, \u001b[1;36m3250\u001b[0m, \u001b[1;36m8240\u001b[0m, \u001b[1;36m2770\u001b[0m, \u001b[1;36m9600\u001b[0m, \u001b[1;36m1422\u001b[0m, \u001b[1;36m2635\u001b[0m, \u001b[1;36m3100\u001b[0m, \u001b[1;36m5350\u001b[0m,\n",
       "       \u001b[1;36m8881\u001b[0m, \u001b[1;36m8541\u001b[0m, \u001b[1;36m6853\u001b[0m, \u001b[1;36m4671\u001b[0m, \u001b[1;36m4622\u001b[0m, \u001b[1;36m2760\u001b[0m, \u001b[1;36m9240\u001b[0m, \u001b[1;36m5240\u001b[0m, \u001b[1;36m6520\u001b[0m, \u001b[1;36m3550\u001b[0m, \u001b[1;36m7730\u001b[0m,\n",
       "       \u001b[1;36m4241\u001b[0m, \u001b[1;36m9850\u001b[0m, \u001b[1;36m4261\u001b[0m, \u001b[1;36m6752\u001b[0m, \u001b[1;36m6470\u001b[0m, \u001b[1;36m8230\u001b[0m, \u001b[1;36m6990\u001b[0m, \u001b[1;36m8250\u001b[0m, \u001b[1;36m8471\u001b[0m, \u001b[1;36m6830\u001b[0m, \u001b[1;36m9510\u001b[0m,\n",
       "       \u001b[1;36m6880\u001b[0m, \u001b[1;36m1452\u001b[0m, \u001b[1;36m6731\u001b[0m, \u001b[1;36m3000\u001b[0m, \u001b[1;36m2791\u001b[0m, \u001b[1;36m4583\u001b[0m, \u001b[1;36m1799\u001b[0m, \u001b[1;36m6630\u001b[0m, \u001b[1;36m5492\u001b[0m, \u001b[1;36m4840\u001b[0m, \u001b[1;36m8900\u001b[0m,\n",
       "       \u001b[1;36m8660\u001b[0m, \u001b[1;36m5771\u001b[0m, \u001b[1;36m6852\u001b[0m, \u001b[1;36m3400\u001b[0m, \u001b[1;36m8763\u001b[0m, \u001b[1;36m8940\u001b[0m, \u001b[1;36m8355\u001b[0m, \u001b[1;36m4872\u001b[0m, \u001b[1;36m2740\u001b[0m, \u001b[1;36m7870\u001b[0m, \u001b[1;36m6093\u001b[0m,\n",
       "       \u001b[1;36m4281\u001b[0m, \u001b[1;36m7171\u001b[0m, \u001b[1;36m2610\u001b[0m, \u001b[1;36m2970\u001b[0m, \u001b[1;36m4684\u001b[0m, \u001b[1;36m9230\u001b[0m, \u001b[1;36m6091\u001b[0m, \u001b[1;36m8410\u001b[0m, \u001b[1;36m8530\u001b[0m, \u001b[1;36m6660\u001b[0m, \u001b[1;36m5874\u001b[0m,\n",
       "       \u001b[1;36m3480\u001b[0m, \u001b[1;36m6857\u001b[0m, \u001b[1;36m4780\u001b[0m, \u001b[1;36m8740\u001b[0m, \u001b[1;36m6040\u001b[0m, \u001b[1;36m3200\u001b[0m, \u001b[1;36m7441\u001b[0m, \u001b[1;36m7430\u001b[0m, \u001b[1;36m4571\u001b[0m, \u001b[1;36m4800\u001b[0m, \u001b[1;36m7200\u001b[0m,\n",
       "       \u001b[1;36m4733\u001b[0m, \u001b[1;36m7442\u001b[0m, \u001b[1;36m4736\u001b[0m, \u001b[1;36m7490\u001b[0m, \u001b[1;36m9982\u001b[0m, \u001b[1;36m5220\u001b[0m, \u001b[1;36m4450\u001b[0m, \u001b[1;36m5900\u001b[0m, \u001b[1;36m6230\u001b[0m, \u001b[1;36m4951\u001b[0m, \u001b[1;36m6683\u001b[0m,\n",
       "       \u001b[1;36m6771\u001b[0m, \u001b[1;36m9990\u001b[0m, \u001b[1;36m8220\u001b[0m, \u001b[1;36m7120\u001b[0m, \u001b[1;36m9881\u001b[0m, \u001b[1;36m4550\u001b[0m, \u001b[1;36m9670\u001b[0m, \u001b[1;36m7330\u001b[0m, \u001b[1;36m9210\u001b[0m, \u001b[1;36m8462\u001b[0m, \u001b[1;36m3450\u001b[0m,\n",
       "       \u001b[1;36m4140\u001b[0m, \u001b[1;36m1973\u001b[0m, \u001b[1;36m6621\u001b[0m, \u001b[1;36m9970\u001b[0m, \u001b[1;36m8585\u001b[0m, \u001b[1;36m4270\u001b[0m, \u001b[1;36m7323\u001b[0m, \u001b[1;36m8870\u001b[0m, \u001b[1;36m5491\u001b[0m, \u001b[1;36m3120\u001b[0m, \u001b[1;36m9440\u001b[0m,\n",
       "       \u001b[1;36m4850\u001b[0m, \u001b[1;36m8983\u001b[0m, \u001b[1;36m6094\u001b[0m, \u001b[1;36m8882\u001b[0m, \u001b[1;36m4654\u001b[0m, \u001b[1;36m4470\u001b[0m, \u001b[1;36m1812\u001b[0m, \u001b[1;36m6580\u001b[0m, \u001b[1;36m9750\u001b[0m, \u001b[1;36m9490\u001b[0m, \u001b[1;36m5210\u001b[0m,\n",
       "       \u001b[1;36m5463\u001b[0m, \u001b[1;36m2930\u001b[0m, \u001b[1;36m4174\u001b[0m, \u001b[1;36m2750\u001b[0m, \u001b[1;36m9760\u001b[0m, \u001b[1;36m6710\u001b[0m, \u001b[1;36m4520\u001b[0m, \u001b[1;36m3230\u001b[0m, \u001b[1;36m9362\u001b[0m, \u001b[1;36m8732\u001b[0m, \u001b[1;36m4913\u001b[0m,\n",
       "       \u001b[1;36m1319\u001b[0m, \u001b[1;36m5792\u001b[0m, \u001b[1;36m6780\u001b[0m, \u001b[1;36m5953\u001b[0m, \u001b[1;36m6261\u001b[0m, \u001b[1;36m6862\u001b[0m, \u001b[1;36m9380\u001b[0m, \u001b[1;36m3490\u001b[0m, \u001b[1;36m8752\u001b[0m, \u001b[1;36m5330\u001b[0m, \u001b[1;36m9550\u001b[0m,\n",
       "       \u001b[1;36m1253\u001b[0m, \u001b[1;36m8361\u001b[0m, \u001b[1;36m3720\u001b[0m, \u001b[1;36m5985\u001b[0m, \u001b[1;36m9940\u001b[0m, \u001b[1;36m1810\u001b[0m, \u001b[1;36m6240\u001b[0m, \u001b[1;36m7752\u001b[0m, \u001b[1;36m8654\u001b[0m, \u001b[1;36m4573\u001b[0m, \u001b[1;36m1573\u001b[0m,\n",
       "       \u001b[1;36m1904\u001b[0m, \u001b[1;36m8520\u001b[0m, \u001b[1;36m4592\u001b[0m, \u001b[1;36m2640\u001b[0m, \u001b[1;36m9870\u001b[0m, \u001b[1;36m1307\u001b[0m, \u001b[1;36m1313\u001b[0m, \u001b[1;36m3600\u001b[0m, \u001b[1;36m1310\u001b[0m, \u001b[1;36m5560\u001b[0m, \u001b[1;36m6600\u001b[0m,\n",
       "       \u001b[1;36m9460\u001b[0m, \u001b[1;36m9293\u001b[0m, \u001b[1;36m4572\u001b[0m, \u001b[1;36m8766\u001b[0m, \u001b[1;36m2900\u001b[0m, \u001b[1;36m1656\u001b[0m, \u001b[1;36m7480\u001b[0m, \u001b[1;36m1429\u001b[0m, \u001b[1;36m4460\u001b[0m, \u001b[1;36m2500\u001b[0m, \u001b[1;36m8723\u001b[0m,\n",
       "       \u001b[1;36m1879\u001b[0m, \u001b[1;36m2670\u001b[0m, \u001b[1;36m4534\u001b[0m, \u001b[1;36m4173\u001b[0m, \u001b[1;36m5260\u001b[0m, \u001b[1;36m8330\u001b[0m, \u001b[1;36m5970\u001b[0m, \u001b[1;36m2880\u001b[0m, \u001b[1;36m4420\u001b[0m, \u001b[1;36m5853\u001b[0m, \u001b[1;36m4295\u001b[0m,\n",
       "       \u001b[1;36m5592\u001b[0m, \u001b[1;36m2765\u001b[0m, \u001b[1;36m7550\u001b[0m, \u001b[1;36m5462\u001b[0m, \u001b[1;36m6360\u001b[0m, \u001b[1;36m5580\u001b[0m, \u001b[1;36m6650\u001b[0m, \u001b[1;36m3050\u001b[0m, \u001b[1;36m4305\u001b[0m, \u001b[1;36m6430\u001b[0m, \u001b[1;36m8464\u001b[0m,\n",
       "       \u001b[1;36m7140\u001b[0m, \u001b[1;36m7470\u001b[0m, \u001b[1;36m3660\u001b[0m, \u001b[1;36m4296\u001b[0m, \u001b[1;36m8560\u001b[0m, \u001b[1;36m5550\u001b[0m, \u001b[1;36m5474\u001b[0m, \u001b[1;36m4983\u001b[0m, \u001b[1;36m5642\u001b[0m, \u001b[1;36m4952\u001b[0m, \u001b[1;36m2400\u001b[0m,\n",
       "       \u001b[1;36m1864\u001b[0m, \u001b[1;36m5854\u001b[0m, \u001b[1;36m7680\u001b[0m, \u001b[1;36m9520\u001b[0m, \u001b[1;36m7755\u001b[0m, \u001b[1;36m8305\u001b[0m, \u001b[1;36m1870\u001b[0m, \u001b[1;36m8340\u001b[0m, \u001b[1;36m8643\u001b[0m, \u001b[1;36m8362\u001b[0m, \u001b[1;36m6440\u001b[0m,\n",
       "       \u001b[1;36m1674\u001b[0m, \u001b[1;36m8382\u001b[0m, \u001b[1;36m5540\u001b[0m, \u001b[1;36m9610\u001b[0m, \u001b[1;36m4060\u001b[0m, \u001b[1;36m2665\u001b[0m, \u001b[1;36m9260\u001b[0m, \u001b[1;36m4793\u001b[0m, \u001b[1;36m6940\u001b[0m, \u001b[1;36m1370\u001b[0m, \u001b[1;36m6933\u001b[0m,\n",
       "       \u001b[1;36m4792\u001b[0m, \u001b[1;36m8981\u001b[0m, \u001b[1;36m3370\u001b[0m, \u001b[1;36m9492\u001b[0m, \u001b[1;36m4330\u001b[0m, \u001b[1;36m4970\u001b[0m, \u001b[1;36m4683\u001b[0m, \u001b[1;36m8781\u001b[0m, \u001b[1;36m3751\u001b[0m, \u001b[1;36m4171\u001b[0m, \u001b[1;36m4673\u001b[0m,\n",
       "       \u001b[1;36m4130\u001b[0m, \u001b[1;36m8320\u001b[0m, \u001b[1;36m8970\u001b[0m, \u001b[1;36m1302\u001b[0m, \u001b[1;36m4863\u001b[0m, \u001b[1;36m4760\u001b[0m, \u001b[1;36m8370\u001b[0m, \u001b[1;36m6870\u001b[0m, \u001b[1;36m5883\u001b[0m, \u001b[1;36m7361\u001b[0m, \u001b[1;36m4894\u001b[0m,\n",
       "       \u001b[1;36m1358\u001b[0m, \u001b[1;36m5672\u001b[0m, \u001b[1;36m1363\u001b[0m, \u001b[1;36m1956\u001b[0m, \u001b[1;36m1669\u001b[0m, \u001b[1;36m5200\u001b[0m, \u001b[1;36m9575\u001b[0m, \u001b[1;36m2870\u001b[0m, \u001b[1;36m4652\u001b[0m, \u001b[1;36m4773\u001b[0m, \u001b[1;36m8550\u001b[0m,\n",
       "       \u001b[1;36m5300\u001b[0m, \u001b[1;36m7860\u001b[0m, \u001b[1;36m8950\u001b[0m, \u001b[1;36m4370\u001b[0m, \u001b[1;36m1468\u001b[0m, \u001b[1;36m3790\u001b[0m, \u001b[1;36m6330\u001b[0m, \u001b[1;36m4350\u001b[0m, \u001b[1;36m4030\u001b[0m, \u001b[1;36m8381\u001b[0m, \u001b[1;36m8670\u001b[0m,\n",
       "       \u001b[1;36m1722\u001b[0m, \u001b[1;36m1809\u001b[0m, \u001b[1;36m6690\u001b[0m, \u001b[1;36m5772\u001b[0m, \u001b[1;36m1112\u001b[0m, \u001b[1;36m5932\u001b[0m, \u001b[1;36m3760\u001b[0m, \u001b[1;36m6051\u001b[0m, \u001b[1;36m6534\u001b[0m, \u001b[1;36m3140\u001b[0m, \u001b[1;36m8765\u001b[0m,\n",
       "       \u001b[1;36m6640\u001b[0m, \u001b[1;36m6715\u001b[0m, \u001b[1;36m3080\u001b[0m, \u001b[1;36m6070\u001b[0m, \u001b[1;36m6560\u001b[0m, \u001b[1;36m3320\u001b[0m, \u001b[1;36m7150\u001b[0m, \u001b[1;36m4920\u001b[0m, \u001b[1;36m1721\u001b[0m, \u001b[1;36m2990\u001b[0m, \u001b[1;36m5270\u001b[0m,\n",
       "       \u001b[1;36m8840\u001b[0m, \u001b[1;36m1635\u001b[0m, \u001b[1;36m7950\u001b[0m, \u001b[1;36m1726\u001b[0m, \u001b[1;36m7850\u001b[0m, \u001b[1;36m8990\u001b[0m, \u001b[1;36m5591\u001b[0m, \u001b[1;36m7990\u001b[0m, \u001b[1;36m7660\u001b[0m, \u001b[1;36m5631\u001b[0m, \u001b[1;36m7190\u001b[0m,\n",
       "       \u001b[1;36m5485\u001b[0m, \u001b[1;36m7540\u001b[0m, \u001b[1;36m5370\u001b[0m, \u001b[1;36m4390\u001b[0m, \u001b[1;36m3540\u001b[0m, \u001b[1;36m1360\u001b[0m, \u001b[1;36m7790\u001b[0m, \u001b[1;36m5762\u001b[0m, \u001b[1;36m1666\u001b[0m, \u001b[1;36m1157\u001b[0m, \u001b[1;36m9340\u001b[0m,\n",
       "       \u001b[1;36m7183\u001b[0m, \u001b[1;36m4245\u001b[0m, \u001b[1;36m3782\u001b[0m, \u001b[1;36m7451\u001b[0m, \u001b[1;36m4293\u001b[0m, \u001b[1;36m1601\u001b[0m, \u001b[1;36m1265\u001b[0m, \u001b[1;36m4243\u001b[0m, \u001b[1;36m9270\u001b[0m, \u001b[1;36m4490\u001b[0m, \u001b[1;36m4871\u001b[0m,\n",
       "       \u001b[1;36m8883\u001b[0m, \u001b[1;36m8543\u001b[0m, \u001b[1;36m1754\u001b[0m, \u001b[1;36m6818\u001b[0m, \u001b[1;36m5863\u001b[0m, \u001b[1;36m1719\u001b[0m, \u001b[1;36m8570\u001b[0m, \u001b[1;36m2980\u001b[0m, \u001b[1;36m2150\u001b[0m, \u001b[1;36m8210\u001b[0m, \u001b[1;36m3740\u001b[0m,\n",
       "       \u001b[1;36m1051\u001b[0m, \u001b[1;36m4735\u001b[0m, \u001b[1;36m9493\u001b[0m, \u001b[1;36m9430\u001b[0m, \u001b[1;36m7560\u001b[0m, \u001b[1;36m6623\u001b[0m, \u001b[1;36m2942\u001b[0m, \u001b[1;36m1154\u001b[0m, \u001b[1;36m4640\u001b[0m, \u001b[1;36m4771\u001b[0m, \u001b[1;36m3670\u001b[0m,\n",
       "       \u001b[1;36m8592\u001b[0m, \u001b[1;36m6980\u001b[0m, \u001b[1;36m1650\u001b[0m, \u001b[1;36m7182\u001b[0m, \u001b[1;36m4190\u001b[0m, \u001b[1;36m1123\u001b[0m, \u001b[1;36m6753\u001b[0m, \u001b[1;36m4772\u001b[0m, \u001b[1;36m9382\u001b[0m, \u001b[1;36m1855\u001b[0m, \u001b[1;36m4672\u001b[0m,\n",
       "       \u001b[1;36m4440\u001b[0m, \u001b[1;36m6622\u001b[0m, \u001b[1;36m6064\u001b[0m, \u001b[1;36m4880\u001b[0m, \u001b[1;36m1414\u001b[0m, \u001b[1;36m1401\u001b[0m, \u001b[1;36m4291\u001b[0m, \u001b[1;36m3070\u001b[0m, \u001b[1;36m6535\u001b[0m, \u001b[1;36m7570\u001b[0m, \u001b[1;36m1357\u001b[0m,\n",
       "       \u001b[1;36m6392\u001b[0m, \u001b[1;36m1824\u001b[0m, \u001b[1;36m7280\u001b[0m, \u001b[1;36m8544\u001b[0m, \u001b[1;36m7884\u001b[0m, \u001b[1;36m1428\u001b[0m, \u001b[1;36m6510\u001b[0m, \u001b[1;36m5464\u001b[0m, \u001b[1;36m9574\u001b[0m, \u001b[1;36m4480\u001b[0m, \u001b[1;36m5856\u001b[0m,\n",
       "       \u001b[1;36m9632\u001b[0m, \u001b[1;36m7173\u001b[0m, \u001b[1;36m6320\u001b[0m, \u001b[1;36m4681\u001b[0m, \u001b[1;36m1264\u001b[0m, \u001b[1;36m8632\u001b[0m, \u001b[1;36m1720\u001b[0m, \u001b[1;36m9352\u001b[0m, \u001b[1;36m4862\u001b[0m, \u001b[1;36m5882\u001b[0m, \u001b[1;36m4944\u001b[0m,\n",
       "       \u001b[1;36m7741\u001b[0m, \u001b[1;36m9681\u001b[0m, \u001b[1;36m5290\u001b[0m, \u001b[1;36m1562\u001b[0m, \u001b[1;36m8641\u001b[0m, \u001b[1;36m9541\u001b[0m, \u001b[1;36m4593\u001b[0m, \u001b[1;36m1773\u001b[0m, \u001b[1;36m8586\u001b[0m, \u001b[1;36m1631\u001b[0m, \u001b[1;36m1806\u001b[0m,\n",
       "       \u001b[1;36m1651\u001b[0m, \u001b[1;36m5884\u001b[0m, \u001b[1;36m4791\u001b[0m, \u001b[1;36m1972\u001b[0m, \u001b[1;36m5881\u001b[0m, \u001b[1;36m4892\u001b[0m, \u001b[1;36m1159\u001b[0m, \u001b[1;36m1408\u001b[0m, \u001b[1;36m1771\u001b[0m, \u001b[1;36m4941\u001b[0m, \u001b[1;36m1260\u001b[0m,\n",
       "       \u001b[1;36m4750\u001b[0m, \u001b[1;36m8380\u001b[0m, \u001b[1;36m5601\u001b[0m, \u001b[1;36m4532\u001b[0m, \u001b[1;36m7650\u001b[0m, \u001b[1;36m6973\u001b[0m, \u001b[1;36m1055\u001b[0m, \u001b[1;36m8751\u001b[0m, \u001b[1;36m1828\u001b[0m, \u001b[1;36m8783\u001b[0m, \u001b[1;36m1863\u001b[0m,\n",
       "       \u001b[1;36m5935\u001b[0m, \u001b[1;36m7250\u001b[0m, \u001b[1;36m6052\u001b[0m, \u001b[1;36m1561\u001b[0m, \u001b[1;36m1725\u001b[0m, \u001b[1;36m1815\u001b[0m, \u001b[1;36m1367\u001b[0m, \u001b[1;36m1439\u001b[0m, \u001b[1;36m6851\u001b[0m, \u001b[1;36m1665\u001b[0m, \u001b[1;36m5380\u001b[0m,\n",
       "       \u001b[1;36m6541\u001b[0m, \u001b[1;36m8444\u001b[0m, \u001b[1;36m1354\u001b[0m, \u001b[1;36m1206\u001b[0m, \u001b[1;36m8789\u001b[0m, \u001b[1;36m1903\u001b[0m, \u001b[1;36m1950\u001b[0m, \u001b[1;36m1874\u001b[0m, \u001b[1;36m4942\u001b[0m, \u001b[1;36m5390\u001b[0m, \u001b[1;36m6372\u001b[0m,\n",
       "       \u001b[1;36m7184\u001b[0m, \u001b[1;36m1153\u001b[0m, \u001b[1;36m1752\u001b[0m, \u001b[1;36m6092\u001b[0m, \u001b[1;36m6210\u001b[0m, \u001b[1;36m1865\u001b[0m, \u001b[1;36m1456\u001b[0m, \u001b[1;36m3150\u001b[0m, \u001b[1;36m1900\u001b[0m, \u001b[1;36m1415\u001b[0m, \u001b[1;36m1860\u001b[0m,\n",
       "       \u001b[1;36m4912\u001b[0m, \u001b[1;36m1663\u001b[0m, \u001b[1;36m1807\u001b[0m, \u001b[1;36m1850\u001b[0m, \u001b[1;36m1266\u001b[0m, \u001b[1;36m7321\u001b[0m, \u001b[1;36m9381\u001b[0m, \u001b[1;36m7270\u001b[0m, \u001b[1;36m1270\u001b[0m, \u001b[1;36m1304\u001b[0m, \u001b[1;36m6855\u001b[0m,\n",
       "       \u001b[1;36m1254\u001b[0m, \u001b[1;36m8581\u001b[0m, \u001b[1;36m4242\u001b[0m, \u001b[1;36m1255\u001b[0m, \u001b[1;36m5943\u001b[0m, \u001b[1;36m8799\u001b[0m, \u001b[1;36m1361\u001b[0m, \u001b[1;36m1161\u001b[0m, \u001b[1;36m1205\u001b[0m, \u001b[1;36m8762\u001b[0m, \u001b[1;36m1820\u001b[0m,\n",
       "       \u001b[1;36m1964\u001b[0m, \u001b[1;36m1659\u001b[0m, \u001b[1;36m1913\u001b[0m, \u001b[1;36m1402\u001b[0m, \u001b[1;36m1660\u001b[0m, \u001b[1;36m1209\u001b[0m, \u001b[1;36m1852\u001b[0m, \u001b[1;36m1400\u001b[0m, \u001b[1;36m7742\u001b[0m, \u001b[1;36m1819\u001b[0m, \u001b[1;36m1910\u001b[0m,\n",
       "       \u001b[1;36m1451\u001b[0m, \u001b[1;36m4945\u001b[0m, \u001b[1;36m4360\u001b[0m, \u001b[1;36m1671\u001b[0m, \u001b[1;36m1107\u001b[0m, \u001b[1;36m1775\u001b[0m, \u001b[1;36m4943\u001b[0m, \u001b[1;36m1124\u001b[0m, \u001b[1;36m1355\u001b[0m, \u001b[1;36m1971\u001b[0m, \u001b[1;36m1915\u001b[0m,\n",
       "       \u001b[1;36m1454\u001b[0m, \u001b[1;36m1432\u001b[0m, \u001b[1;36m1071\u001b[0m, \u001b[1;36m1801\u001b[0m, \u001b[1;36m1455\u001b[0m, \u001b[1;36m1653\u001b[0m, \u001b[1;36m6682\u001b[0m, \u001b[1;36m8472\u001b[0m, \u001b[1;36m1862\u001b[0m, \u001b[1;36m5892\u001b[0m, \u001b[1;36m1150\u001b[0m,\n",
       "       \u001b[1;36m1920\u001b[0m, \u001b[1;36m4895\u001b[0m, \u001b[1;36m9631\u001b[0m, \u001b[1;36m1620\u001b[0m, \u001b[1;36m1970\u001b[0m, \u001b[1;36m1424\u001b[0m, \u001b[1;36m1437\u001b[0m, \u001b[1;36m1364\u001b[0m, \u001b[1;36m1800\u001b[0m, \u001b[1;36m1916\u001b[0m, \u001b[1;36m1256\u001b[0m,\n",
       "       \u001b[1;36m1311\u001b[0m, \u001b[1;36m1251\u001b[0m, \u001b[1;36m1750\u001b[0m, \u001b[1;36m1912\u001b[0m, \u001b[1;36m1460\u001b[0m, \u001b[1;36m7362\u001b[0m, \u001b[1;36m1856\u001b[0m, \u001b[1;36m1817\u001b[0m, \u001b[1;36m1151\u001b[0m, \u001b[1;36m1171\u001b[0m, \u001b[1;36m7980\u001b[0m,\n",
       "       \u001b[1;36m1352\u001b[0m, \u001b[1;36m1814\u001b[0m, \u001b[1;36m1553\u001b[0m, \u001b[1;36m1676\u001b[0m, \u001b[1;36m1210\u001b[0m, \u001b[1;36m1068\u001b[0m, \u001b[1;36m1425\u001b[0m, \u001b[1;36m1576\u001b[0m, \u001b[1;36m4244\u001b[0m, \u001b[1;36m1818\u001b[0m, \u001b[1;36m1664\u001b[0m,\n",
       "       \u001b[1;36m1453\u001b[0m, \u001b[1;36m1958\u001b[0m, \u001b[1;36m1118\u001b[0m, \u001b[1;36m1727\u001b[0m, \u001b[1;36m1610\u001b[0m, \u001b[1;36m1615\u001b[0m, \u001b[1;36m1962\u001b[0m, \u001b[1;36m1600\u001b[0m, \u001b[1;36m1175\u001b[0m, \u001b[1;36m1700\u001b[0m, \u001b[1;36m1823\u001b[0m,\n",
       "       \u001b[1;36m1908\u001b[0m, \u001b[1;36m1173\u001b[0m, \u001b[1;36m1866\u001b[0m, \u001b[1;36m1470\u001b[0m, \u001b[1;36m7970\u001b[0m, \u001b[1;36m1867\u001b[0m, \u001b[1;36m1617\u001b[0m, \u001b[1;36m1902\u001b[0m, \u001b[1;36m1263\u001b[0m, \u001b[1;36m1704\u001b[0m, \u001b[1;36m1967\u001b[0m,\n",
       "       \u001b[1;36m1871\u001b[0m, \u001b[1;36m4953\u001b[0m, \u001b[1;36m1203\u001b[0m, \u001b[1;36m1356\u001b[0m, \u001b[1;36m1670\u001b[0m, \u001b[1;36m1308\u001b[0m, \u001b[1;36m1813\u001b[0m, \u001b[1;36m1927\u001b[0m, \u001b[1;36m1063\u001b[0m, \u001b[1;36m1878\u001b[0m, \u001b[1;36m1207\u001b[0m,\n",
       "       \u001b[1;36m1657\u001b[0m, \u001b[1;36m1953\u001b[0m, \u001b[1;36m1569\u001b[0m, \u001b[1;36m1718\u001b[0m, \u001b[1;36m5602\u001b[0m, \u001b[1;36m1829\u001b[0m, \u001b[1;36m1129\u001b[0m, \u001b[1;36m1366\u001b[0m, \u001b[1;36m1961\u001b[0m, \u001b[1;36m1165\u001b[0m, \u001b[1;36m1303\u001b[0m,\n",
       "       \u001b[1;36m1667\u001b[0m, \u001b[1;36m1876\u001b[0m, \u001b[1;36m1827\u001b[0m, \u001b[1;36m1705\u001b[0m, \u001b[1;36m1467\u001b[0m, \u001b[1;36m1300\u001b[0m, \u001b[1;36m1563\u001b[0m, \u001b[1;36m1369\u001b[0m, \u001b[1;36m5603\u001b[0m, \u001b[1;36m1770\u001b[0m, \u001b[1;36m1804\u001b[0m,\n",
       "       \u001b[1;36m1113\u001b[0m, \u001b[1;36m1911\u001b[0m, \u001b[1;36m1774\u001b[0m, \u001b[1;36m1632\u001b[0m, \u001b[1;36m1067\u001b[0m, \u001b[1;36m1427\u001b[0m, \u001b[1;36m1923\u001b[0m, \u001b[1;36m1208\u001b[0m, \u001b[1;36m1868\u001b[0m, \u001b[1;36m1624\u001b[0m, \u001b[1;36m1316\u001b[0m,\n",
       "       \u001b[1;36m1619\u001b[0m, \u001b[1;36m1966\u001b[0m, \u001b[1;36m1614\u001b[0m, \u001b[1;36m1127\u001b[0m, \u001b[1;36m1110\u001b[0m, \u001b[1;36m1751\u001b[0m, \u001b[1;36m1317\u001b[0m, \u001b[1;36m1466\u001b[0m, \u001b[1;36m1851\u001b[0m, \u001b[1;36m1416\u001b[0m, \u001b[1;36m1058\u001b[0m,\n",
       "       \u001b[1;36m1306\u001b[0m, \u001b[1;36m1926\u001b[0m, \u001b[1;36m1359\u001b[0m, \u001b[1;36m1564\u001b[0m, \u001b[1;36m1568\u001b[0m, \u001b[1;36m1462\u001b[0m, \u001b[1;36m1957\u001b[0m, \u001b[1;36m1204\u001b[0m, \u001b[1;36m1661\u001b[0m, \u001b[1;36m1672\u001b[0m, \u001b[1;36m1434\u001b[0m,\n",
       "       \u001b[1;36m1556\u001b[0m, \u001b[1;36m1172\u001b[0m, \u001b[1;36m1623\u001b[0m, \u001b[1;36m1066\u001b[0m, \u001b[1;36m1267\u001b[0m, \u001b[1;36m1430\u001b[0m, \u001b[1;36m1169\u001b[0m, \u001b[1;36m1314\u001b[0m, \u001b[1;36m1577\u001b[0m, \u001b[1;36m1708\u001b[0m, \u001b[1;36m1914\u001b[0m,\n",
       "       \u001b[1;36m1459\u001b[0m, \u001b[1;36m1922\u001b[0m, \u001b[1;36m1420\u001b[0m\u001b[1m]\u001b[0m\u001b[1m)\u001b[0m"
      ]
     },
     "execution_count": 41,
     "metadata": {},
     "output_type": "execute_result"
    }
   ],
   "source": [
    "X_train['zip_code'].unique()"
   ]
  }
 ],
 "metadata": {
  "kernelspec": {
   "display_name": "venv",
   "language": "python",
   "name": "python3"
  },
  "language_info": {
   "codemirror_mode": {
    "name": "ipython",
    "version": 3
   },
   "file_extension": ".py",
   "mimetype": "text/x-python",
   "name": "python",
   "nbconvert_exporter": "python",
   "pygments_lexer": "ipython3",
   "version": "3.9.6"
  }
 },
 "nbformat": 4,
 "nbformat_minor": 2
}
