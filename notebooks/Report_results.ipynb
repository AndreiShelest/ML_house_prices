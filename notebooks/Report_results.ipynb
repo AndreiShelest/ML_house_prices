{
 "cells": [
  {
   "cell_type": "code",
   "execution_count": 1,
   "metadata": {},
   "outputs": [
    {
     "data": {
      "text/html": [
       "<pre style=\"white-space:pre;overflow-x:auto;line-height:normal;font-family:Menlo,'DejaVu Sans Mono',consolas,'Courier New',monospace\"><span style=\"color: #7fbfbf; text-decoration-color: #7fbfbf\">[01/14/25 01:02:25] </span><span style=\"color: #000080; text-decoration-color: #000080\">INFO    </span> Using                                                                  <a href=\"file:///Users/zofiab/Documents/2024-2025/ML_project/House_prices/ML/venv/lib/python3.9/site-packages/kedro/framework/project/__init__.py\" target=\"_blank\"><span style=\"color: #7f7f7f; text-decoration-color: #7f7f7f\">__init__.py</span></a><span style=\"color: #7f7f7f; text-decoration-color: #7f7f7f\">:</span><a href=\"file:///Users/zofiab/Documents/2024-2025/ML_project/House_prices/ML/venv/lib/python3.9/site-packages/kedro/framework/project/__init__.py#270\" target=\"_blank\"><span style=\"color: #7f7f7f; text-decoration-color: #7f7f7f\">270</span></a>\n",
       "<span style=\"color: #7fbfbf; text-decoration-color: #7fbfbf\">                    </span>         <span style=\"color: #008000; text-decoration-color: #008000\">'/Users/zofiab/Documents/2024-2025/ML_project/House_prices/ML/venv/lib</span> <span style=\"color: #7f7f7f; text-decoration-color: #7f7f7f\">               </span>\n",
       "<span style=\"color: #7fbfbf; text-decoration-color: #7fbfbf\">                    </span>         <span style=\"color: #008000; text-decoration-color: #008000\">/python3.9/site-packages/kedro/framework/project/rich_logging.yml'</span> as  <span style=\"color: #7f7f7f; text-decoration-color: #7f7f7f\">               </span>\n",
       "<span style=\"color: #7fbfbf; text-decoration-color: #7fbfbf\">                    </span>         logging configuration.                                                 <span style=\"color: #7f7f7f; text-decoration-color: #7f7f7f\">               </span>\n",
       "</pre>\n"
      ],
      "text/plain": [
       "\u001b[2;36m[01/14/25 01:02:25]\u001b[0m\u001b[2;36m \u001b[0m\u001b[34mINFO    \u001b[0m Using                                                                  \u001b]8;id=680964;file:///Users/zofiab/Documents/2024-2025/ML_project/House_prices/ML/venv/lib/python3.9/site-packages/kedro/framework/project/__init__.py\u001b\\\u001b[2m__init__.py\u001b[0m\u001b]8;;\u001b\\\u001b[2m:\u001b[0m\u001b]8;id=22581;file:///Users/zofiab/Documents/2024-2025/ML_project/House_prices/ML/venv/lib/python3.9/site-packages/kedro/framework/project/__init__.py#270\u001b\\\u001b[2m270\u001b[0m\u001b]8;;\u001b\\\n",
       "\u001b[2;36m                    \u001b[0m         \u001b[32m'/Users/zofiab/Documents/2024-2025/ML_project/House_prices/ML/venv/lib\u001b[0m \u001b[2m               \u001b[0m\n",
       "\u001b[2;36m                    \u001b[0m         \u001b[32m/python3.9/site-packages/kedro/framework/project/rich_logging.yml'\u001b[0m as  \u001b[2m               \u001b[0m\n",
       "\u001b[2;36m                    \u001b[0m         logging configuration.                                                 \u001b[2m               \u001b[0m\n"
      ]
     },
     "metadata": {},
     "output_type": "display_data"
    },
    {
     "data": {
      "text/html": [
       "<pre style=\"white-space:pre;overflow-x:auto;line-height:normal;font-family:Menlo,'DejaVu Sans Mono',consolas,'Courier New',monospace\"><span style=\"color: #7fbfbf; text-decoration-color: #7fbfbf\">                    </span><span style=\"color: #000080; text-decoration-color: #000080\">INFO    </span> Registered line magic <span style=\"color: #008000; text-decoration-color: #008000\">'%reload_kedro'</span>                                   <a href=\"file:///Users/zofiab/Documents/2024-2025/ML_project/House_prices/ML/venv/lib/python3.9/site-packages/kedro/ipython/__init__.py\" target=\"_blank\"><span style=\"color: #7f7f7f; text-decoration-color: #7f7f7f\">__init__.py</span></a><span style=\"color: #7f7f7f; text-decoration-color: #7f7f7f\">:</span><a href=\"file:///Users/zofiab/Documents/2024-2025/ML_project/House_prices/ML/venv/lib/python3.9/site-packages/kedro/ipython/__init__.py#61\" target=\"_blank\"><span style=\"color: #7f7f7f; text-decoration-color: #7f7f7f\">61</span></a>\n",
       "</pre>\n"
      ],
      "text/plain": [
       "\u001b[2;36m                   \u001b[0m\u001b[2;36m \u001b[0m\u001b[34mINFO    \u001b[0m Registered line magic \u001b[32m'%reload_kedro'\u001b[0m                                   \u001b]8;id=594661;file:///Users/zofiab/Documents/2024-2025/ML_project/House_prices/ML/venv/lib/python3.9/site-packages/kedro/ipython/__init__.py\u001b\\\u001b[2m__init__.py\u001b[0m\u001b]8;;\u001b\\\u001b[2m:\u001b[0m\u001b]8;id=571979;file:///Users/zofiab/Documents/2024-2025/ML_project/House_prices/ML/venv/lib/python3.9/site-packages/kedro/ipython/__init__.py#61\u001b\\\u001b[2m61\u001b[0m\u001b]8;;\u001b\\\n"
      ]
     },
     "metadata": {},
     "output_type": "display_data"
    },
    {
     "data": {
      "text/html": [
       "<pre style=\"white-space:pre;overflow-x:auto;line-height:normal;font-family:Menlo,'DejaVu Sans Mono',consolas,'Courier New',monospace\"><span style=\"color: #7fbfbf; text-decoration-color: #7fbfbf\">                    </span><span style=\"color: #000080; text-decoration-color: #000080\">INFO    </span> Registered line magic <span style=\"color: #008000; text-decoration-color: #008000\">'%load_node'</span>                                      <a href=\"file:///Users/zofiab/Documents/2024-2025/ML_project/House_prices/ML/venv/lib/python3.9/site-packages/kedro/ipython/__init__.py\" target=\"_blank\"><span style=\"color: #7f7f7f; text-decoration-color: #7f7f7f\">__init__.py</span></a><span style=\"color: #7f7f7f; text-decoration-color: #7f7f7f\">:</span><a href=\"file:///Users/zofiab/Documents/2024-2025/ML_project/House_prices/ML/venv/lib/python3.9/site-packages/kedro/ipython/__init__.py#63\" target=\"_blank\"><span style=\"color: #7f7f7f; text-decoration-color: #7f7f7f\">63</span></a>\n",
       "</pre>\n"
      ],
      "text/plain": [
       "\u001b[2;36m                   \u001b[0m\u001b[2;36m \u001b[0m\u001b[34mINFO    \u001b[0m Registered line magic \u001b[32m'%load_node'\u001b[0m                                      \u001b]8;id=907938;file:///Users/zofiab/Documents/2024-2025/ML_project/House_prices/ML/venv/lib/python3.9/site-packages/kedro/ipython/__init__.py\u001b\\\u001b[2m__init__.py\u001b[0m\u001b]8;;\u001b\\\u001b[2m:\u001b[0m\u001b]8;id=187479;file:///Users/zofiab/Documents/2024-2025/ML_project/House_prices/ML/venv/lib/python3.9/site-packages/kedro/ipython/__init__.py#63\u001b\\\u001b[2m63\u001b[0m\u001b]8;;\u001b\\\n"
      ]
     },
     "metadata": {},
     "output_type": "display_data"
    },
    {
     "data": {
      "text/html": [
       "<pre style=\"white-space:pre;overflow-x:auto;line-height:normal;font-family:Menlo,'DejaVu Sans Mono',consolas,'Courier New',monospace\"><span style=\"color: #7fbfbf; text-decoration-color: #7fbfbf\">                    </span><span style=\"color: #000080; text-decoration-color: #000080\">INFO    </span> Resolved project path as:                                              <a href=\"file:///Users/zofiab/Documents/2024-2025/ML_project/House_prices/ML/venv/lib/python3.9/site-packages/kedro/ipython/__init__.py\" target=\"_blank\"><span style=\"color: #7f7f7f; text-decoration-color: #7f7f7f\">__init__.py</span></a><span style=\"color: #7f7f7f; text-decoration-color: #7f7f7f\">:</span><a href=\"file:///Users/zofiab/Documents/2024-2025/ML_project/House_prices/ML/venv/lib/python3.9/site-packages/kedro/ipython/__init__.py#178\" target=\"_blank\"><span style=\"color: #7f7f7f; text-decoration-color: #7f7f7f\">178</span></a>\n",
       "<span style=\"color: #7fbfbf; text-decoration-color: #7fbfbf\">                    </span>         <span style=\"color: #800080; text-decoration-color: #800080\">/Users/zofiab/Documents/2024-2025/ML_project/House_prices/</span><span style=\"color: #ff00ff; text-decoration-color: #ff00ff\">ML.</span>          <span style=\"color: #7f7f7f; text-decoration-color: #7f7f7f\">               </span>\n",
       "<span style=\"color: #7fbfbf; text-decoration-color: #7fbfbf\">                    </span>         To set a different path, run <span style=\"color: #008000; text-decoration-color: #008000\">'%reload_kedro &lt;project_root&gt;'</span>            <span style=\"color: #7f7f7f; text-decoration-color: #7f7f7f\">               </span>\n",
       "</pre>\n"
      ],
      "text/plain": [
       "\u001b[2;36m                   \u001b[0m\u001b[2;36m \u001b[0m\u001b[34mINFO    \u001b[0m Resolved project path as:                                              \u001b]8;id=8588;file:///Users/zofiab/Documents/2024-2025/ML_project/House_prices/ML/venv/lib/python3.9/site-packages/kedro/ipython/__init__.py\u001b\\\u001b[2m__init__.py\u001b[0m\u001b]8;;\u001b\\\u001b[2m:\u001b[0m\u001b]8;id=496380;file:///Users/zofiab/Documents/2024-2025/ML_project/House_prices/ML/venv/lib/python3.9/site-packages/kedro/ipython/__init__.py#178\u001b\\\u001b[2m178\u001b[0m\u001b]8;;\u001b\\\n",
       "\u001b[2;36m                    \u001b[0m         \u001b[35m/Users/zofiab/Documents/2024-2025/ML_project/House_prices/\u001b[0m\u001b[95mML.\u001b[0m          \u001b[2m               \u001b[0m\n",
       "\u001b[2;36m                    \u001b[0m         To set a different path, run \u001b[32m'%reload_kedro \u001b[0m\u001b[32m<\u001b[0m\u001b[32mproject_root\u001b[0m\u001b[32m>\u001b[0m\u001b[32m'\u001b[0m            \u001b[2m               \u001b[0m\n"
      ]
     },
     "metadata": {},
     "output_type": "display_data"
    },
    {
     "data": {
      "text/html": [
       "<pre style=\"white-space:pre;overflow-x:auto;line-height:normal;font-family:Menlo,'DejaVu Sans Mono',consolas,'Courier New',monospace\"><span style=\"color: #7fbfbf; text-decoration-color: #7fbfbf\">[01/14/25 01:02:25] </span><span style=\"color: #808000; text-decoration-color: #808000\">WARNING </span> <span style=\"color: #800080; text-decoration-color: #800080\">/Users/zofiab/Documents/2024-2025/ML_project/House_prices/ML/venv/lib/</span> <a href=\"file:///Library/Developer/CommandLineTools/Library/Frameworks/Python3.framework/Versions/3.9/lib/python3.9/warnings.py\" target=\"_blank\"><span style=\"color: #7f7f7f; text-decoration-color: #7f7f7f\">warnings.py</span></a><span style=\"color: #7f7f7f; text-decoration-color: #7f7f7f\">:</span><a href=\"file:///Library/Developer/CommandLineTools/Library/Frameworks/Python3.framework/Versions/3.9/lib/python3.9/warnings.py#109\" target=\"_blank\"><span style=\"color: #7f7f7f; text-decoration-color: #7f7f7f\">109</span></a>\n",
       "<span style=\"color: #7fbfbf; text-decoration-color: #7fbfbf\">                    </span>         <span style=\"color: #800080; text-decoration-color: #800080\">python3.9/site-packages/urllib3/</span><span style=\"color: #ff00ff; text-decoration-color: #ff00ff\">__init__.py</span>:<span style=\"color: #008080; text-decoration-color: #008080; font-weight: bold\">35</span>: NotOpenSSLWarning:     <span style=\"color: #7f7f7f; text-decoration-color: #7f7f7f\">               </span>\n",
       "<span style=\"color: #7fbfbf; text-decoration-color: #7fbfbf\">                    </span>         urllib3 v2 only supports OpenSSL <span style=\"color: #008080; text-decoration-color: #008080; font-weight: bold\">1.1</span>.<span style=\"color: #008080; text-decoration-color: #008080; font-weight: bold\">1</span>+, currently the <span style=\"color: #008000; text-decoration-color: #008000\">'ssl'</span> module is <span style=\"color: #7f7f7f; text-decoration-color: #7f7f7f\">               </span>\n",
       "<span style=\"color: #7fbfbf; text-decoration-color: #7fbfbf\">                    </span>         compiled with <span style=\"color: #008000; text-decoration-color: #008000\">'LibreSSL 2.8.3'</span>. See:                                   <span style=\"color: #7f7f7f; text-decoration-color: #7f7f7f\">               </span>\n",
       "<span style=\"color: #7fbfbf; text-decoration-color: #7fbfbf\">                    </span>         <span style=\"color: #0000ff; text-decoration-color: #0000ff; text-decoration: underline\">https://github.com/urllib3/urllib3/issues/3020</span>                         <span style=\"color: #7f7f7f; text-decoration-color: #7f7f7f\">               </span>\n",
       "<span style=\"color: #7fbfbf; text-decoration-color: #7fbfbf\">                    </span>           <span style=\"color: #800080; text-decoration-color: #800080; font-weight: bold\">warnings.warn</span><span style=\"font-weight: bold\">(</span>                                                       <span style=\"color: #7f7f7f; text-decoration-color: #7f7f7f\">               </span>\n",
       "<span style=\"color: #7fbfbf; text-decoration-color: #7fbfbf\">                    </span>                                                                                <span style=\"color: #7f7f7f; text-decoration-color: #7f7f7f\">               </span>\n",
       "</pre>\n"
      ],
      "text/plain": [
       "\u001b[2;36m[01/14/25 01:02:25]\u001b[0m\u001b[2;36m \u001b[0m\u001b[33mWARNING \u001b[0m \u001b[35m/Users/zofiab/Documents/2024-2025/ML_project/House_prices/ML/venv/lib/\u001b[0m \u001b]8;id=59269;file:///Library/Developer/CommandLineTools/Library/Frameworks/Python3.framework/Versions/3.9/lib/python3.9/warnings.py\u001b\\\u001b[2mwarnings.py\u001b[0m\u001b]8;;\u001b\\\u001b[2m:\u001b[0m\u001b]8;id=433595;file:///Library/Developer/CommandLineTools/Library/Frameworks/Python3.framework/Versions/3.9/lib/python3.9/warnings.py#109\u001b\\\u001b[2m109\u001b[0m\u001b]8;;\u001b\\\n",
       "\u001b[2;36m                    \u001b[0m         \u001b[35mpython3.9/site-packages/urllib3/\u001b[0m\u001b[95m__init__.py\u001b[0m:\u001b[1;36m35\u001b[0m: NotOpenSSLWarning:     \u001b[2m               \u001b[0m\n",
       "\u001b[2;36m                    \u001b[0m         urllib3 v2 only supports OpenSSL \u001b[1;36m1.1\u001b[0m.\u001b[1;36m1\u001b[0m+, currently the \u001b[32m'ssl'\u001b[0m module is \u001b[2m               \u001b[0m\n",
       "\u001b[2;36m                    \u001b[0m         compiled with \u001b[32m'LibreSSL 2.8.3'\u001b[0m. See:                                   \u001b[2m               \u001b[0m\n",
       "\u001b[2;36m                    \u001b[0m         \u001b[4;94mhttps://github.com/urllib3/urllib3/issues/3020\u001b[0m                         \u001b[2m               \u001b[0m\n",
       "\u001b[2;36m                    \u001b[0m           \u001b[1;35mwarnings.warn\u001b[0m\u001b[1m(\u001b[0m                                                       \u001b[2m               \u001b[0m\n",
       "\u001b[2;36m                    \u001b[0m                                                                                \u001b[2m               \u001b[0m\n"
      ]
     },
     "metadata": {},
     "output_type": "display_data"
    },
    {
     "data": {
      "text/html": [
       "<pre style=\"white-space:pre;overflow-x:auto;line-height:normal;font-family:Menlo,'DejaVu Sans Mono',consolas,'Courier New',monospace\"><span style=\"color: #7fbfbf; text-decoration-color: #7fbfbf\">[01/14/25 01:02:27] </span><span style=\"color: #000080; text-decoration-color: #000080\">INFO    </span> Kedro is sending anonymous usage data with the sole purpose of improving <a href=\"file:///Users/zofiab/Documents/2024-2025/ML_project/House_prices/ML/venv/lib/python3.9/site-packages/kedro_telemetry/plugin.py\" target=\"_blank\"><span style=\"color: #7f7f7f; text-decoration-color: #7f7f7f\">plugin.py</span></a><span style=\"color: #7f7f7f; text-decoration-color: #7f7f7f\">:</span><a href=\"file:///Users/zofiab/Documents/2024-2025/ML_project/House_prices/ML/venv/lib/python3.9/site-packages/kedro_telemetry/plugin.py#233\" target=\"_blank\"><span style=\"color: #7f7f7f; text-decoration-color: #7f7f7f\">233</span></a>\n",
       "<span style=\"color: #7fbfbf; text-decoration-color: #7fbfbf\">                    </span>         the product. No personal data or IP addresses are stored on our side. If <span style=\"color: #7f7f7f; text-decoration-color: #7f7f7f\">             </span>\n",
       "<span style=\"color: #7fbfbf; text-decoration-color: #7fbfbf\">                    </span>         you want to opt out, set the `KEDRO_DISABLE_TELEMETRY` or `DO_NOT_TRACK` <span style=\"color: #7f7f7f; text-decoration-color: #7f7f7f\">             </span>\n",
       "<span style=\"color: #7fbfbf; text-decoration-color: #7fbfbf\">                    </span>         environment variables, or create a `.telemetry` file in the current      <span style=\"color: #7f7f7f; text-decoration-color: #7f7f7f\">             </span>\n",
       "<span style=\"color: #7fbfbf; text-decoration-color: #7fbfbf\">                    </span>         working directory with the contents `consent: false`. Read more at       <span style=\"color: #7f7f7f; text-decoration-color: #7f7f7f\">             </span>\n",
       "<span style=\"color: #7fbfbf; text-decoration-color: #7fbfbf\">                    </span>         <span style=\"color: #0000ff; text-decoration-color: #0000ff; text-decoration: underline\">https://docs.kedro.org/en/stable/configuration/telemetry.html</span>            <span style=\"color: #7f7f7f; text-decoration-color: #7f7f7f\">             </span>\n",
       "</pre>\n"
      ],
      "text/plain": [
       "\u001b[2;36m[01/14/25 01:02:27]\u001b[0m\u001b[2;36m \u001b[0m\u001b[34mINFO    \u001b[0m Kedro is sending anonymous usage data with the sole purpose of improving \u001b]8;id=217956;file:///Users/zofiab/Documents/2024-2025/ML_project/House_prices/ML/venv/lib/python3.9/site-packages/kedro_telemetry/plugin.py\u001b\\\u001b[2mplugin.py\u001b[0m\u001b]8;;\u001b\\\u001b[2m:\u001b[0m\u001b]8;id=424946;file:///Users/zofiab/Documents/2024-2025/ML_project/House_prices/ML/venv/lib/python3.9/site-packages/kedro_telemetry/plugin.py#233\u001b\\\u001b[2m233\u001b[0m\u001b]8;;\u001b\\\n",
       "\u001b[2;36m                    \u001b[0m         the product. No personal data or IP addresses are stored on our side. If \u001b[2m             \u001b[0m\n",
       "\u001b[2;36m                    \u001b[0m         you want to opt out, set the `KEDRO_DISABLE_TELEMETRY` or `DO_NOT_TRACK` \u001b[2m             \u001b[0m\n",
       "\u001b[2;36m                    \u001b[0m         environment variables, or create a `.telemetry` file in the current      \u001b[2m             \u001b[0m\n",
       "\u001b[2;36m                    \u001b[0m         working directory with the contents `consent: false`. Read more at       \u001b[2m             \u001b[0m\n",
       "\u001b[2;36m                    \u001b[0m         \u001b[4;94mhttps://docs.kedro.org/en/stable/configuration/telemetry.html\u001b[0m            \u001b[2m             \u001b[0m\n"
      ]
     },
     "metadata": {},
     "output_type": "display_data"
    },
    {
     "data": {
      "text/html": [
       "<pre style=\"white-space:pre;overflow-x:auto;line-height:normal;font-family:Menlo,'DejaVu Sans Mono',consolas,'Courier New',monospace\"><span style=\"color: #7fbfbf; text-decoration-color: #7fbfbf\">                    </span><span style=\"color: #000080; text-decoration-color: #000080\">INFO    </span> Kedro project ml_house_prices                                          <a href=\"file:///Users/zofiab/Documents/2024-2025/ML_project/House_prices/ML/venv/lib/python3.9/site-packages/kedro/ipython/__init__.py\" target=\"_blank\"><span style=\"color: #7f7f7f; text-decoration-color: #7f7f7f\">__init__.py</span></a><span style=\"color: #7f7f7f; text-decoration-color: #7f7f7f\">:</span><a href=\"file:///Users/zofiab/Documents/2024-2025/ML_project/House_prices/ML/venv/lib/python3.9/site-packages/kedro/ipython/__init__.py#144\" target=\"_blank\"><span style=\"color: #7f7f7f; text-decoration-color: #7f7f7f\">144</span></a>\n",
       "</pre>\n"
      ],
      "text/plain": [
       "\u001b[2;36m                   \u001b[0m\u001b[2;36m \u001b[0m\u001b[34mINFO    \u001b[0m Kedro project ml_house_prices                                          \u001b]8;id=667854;file:///Users/zofiab/Documents/2024-2025/ML_project/House_prices/ML/venv/lib/python3.9/site-packages/kedro/ipython/__init__.py\u001b\\\u001b[2m__init__.py\u001b[0m\u001b]8;;\u001b\\\u001b[2m:\u001b[0m\u001b]8;id=121983;file:///Users/zofiab/Documents/2024-2025/ML_project/House_prices/ML/venv/lib/python3.9/site-packages/kedro/ipython/__init__.py#144\u001b\\\u001b[2m144\u001b[0m\u001b]8;;\u001b\\\n"
      ]
     },
     "metadata": {},
     "output_type": "display_data"
    },
    {
     "data": {
      "text/html": [
       "<pre style=\"white-space:pre;overflow-x:auto;line-height:normal;font-family:Menlo,'DejaVu Sans Mono',consolas,'Courier New',monospace\"><span style=\"color: #7fbfbf; text-decoration-color: #7fbfbf\">                    </span><span style=\"color: #000080; text-decoration-color: #000080\">INFO    </span> Defined global variable <span style=\"color: #008000; text-decoration-color: #008000\">'context'</span>, <span style=\"color: #008000; text-decoration-color: #008000\">'session'</span>, <span style=\"color: #008000; text-decoration-color: #008000\">'catalog'</span> and            <a href=\"file:///Users/zofiab/Documents/2024-2025/ML_project/House_prices/ML/venv/lib/python3.9/site-packages/kedro/ipython/__init__.py\" target=\"_blank\"><span style=\"color: #7f7f7f; text-decoration-color: #7f7f7f\">__init__.py</span></a><span style=\"color: #7f7f7f; text-decoration-color: #7f7f7f\">:</span><a href=\"file:///Users/zofiab/Documents/2024-2025/ML_project/House_prices/ML/venv/lib/python3.9/site-packages/kedro/ipython/__init__.py#145\" target=\"_blank\"><span style=\"color: #7f7f7f; text-decoration-color: #7f7f7f\">145</span></a>\n",
       "<span style=\"color: #7fbfbf; text-decoration-color: #7fbfbf\">                    </span>         <span style=\"color: #008000; text-decoration-color: #008000\">'pipelines'</span>                                                            <span style=\"color: #7f7f7f; text-decoration-color: #7f7f7f\">               </span>\n",
       "</pre>\n"
      ],
      "text/plain": [
       "\u001b[2;36m                   \u001b[0m\u001b[2;36m \u001b[0m\u001b[34mINFO    \u001b[0m Defined global variable \u001b[32m'context'\u001b[0m, \u001b[32m'session'\u001b[0m, \u001b[32m'catalog'\u001b[0m and            \u001b]8;id=340344;file:///Users/zofiab/Documents/2024-2025/ML_project/House_prices/ML/venv/lib/python3.9/site-packages/kedro/ipython/__init__.py\u001b\\\u001b[2m__init__.py\u001b[0m\u001b]8;;\u001b\\\u001b[2m:\u001b[0m\u001b]8;id=6183;file:///Users/zofiab/Documents/2024-2025/ML_project/House_prices/ML/venv/lib/python3.9/site-packages/kedro/ipython/__init__.py#145\u001b\\\u001b[2m145\u001b[0m\u001b]8;;\u001b\\\n",
       "\u001b[2;36m                    \u001b[0m         \u001b[32m'pipelines'\u001b[0m                                                            \u001b[2m               \u001b[0m\n"
      ]
     },
     "metadata": {},
     "output_type": "display_data"
    },
    {
     "data": {
      "text/html": [
       "<pre style=\"white-space:pre;overflow-x:auto;line-height:normal;font-family:Menlo,'DejaVu Sans Mono',consolas,'Courier New',monospace\"><span style=\"color: #7fbfbf; text-decoration-color: #7fbfbf\">[01/14/25 01:02:28] </span><span style=\"color: #000080; text-decoration-color: #000080\">INFO    </span> Registered line magic <span style=\"color: #008000; text-decoration-color: #008000\">'run_viz'</span>                                        <a href=\"file:///Users/zofiab/Documents/2024-2025/ML_project/House_prices/ML/venv/lib/python3.9/site-packages/kedro/ipython/__init__.py\" target=\"_blank\"><span style=\"color: #7f7f7f; text-decoration-color: #7f7f7f\">__init__.py</span></a><span style=\"color: #7f7f7f; text-decoration-color: #7f7f7f\">:</span><a href=\"file:///Users/zofiab/Documents/2024-2025/ML_project/House_prices/ML/venv/lib/python3.9/site-packages/kedro/ipython/__init__.py#151\" target=\"_blank\"><span style=\"color: #7f7f7f; text-decoration-color: #7f7f7f\">151</span></a>\n",
       "</pre>\n"
      ],
      "text/plain": [
       "\u001b[2;36m[01/14/25 01:02:28]\u001b[0m\u001b[2;36m \u001b[0m\u001b[34mINFO    \u001b[0m Registered line magic \u001b[32m'run_viz'\u001b[0m                                        \u001b]8;id=892799;file:///Users/zofiab/Documents/2024-2025/ML_project/House_prices/ML/venv/lib/python3.9/site-packages/kedro/ipython/__init__.py\u001b\\\u001b[2m__init__.py\u001b[0m\u001b]8;;\u001b\\\u001b[2m:\u001b[0m\u001b]8;id=12280;file:///Users/zofiab/Documents/2024-2025/ML_project/House_prices/ML/venv/lib/python3.9/site-packages/kedro/ipython/__init__.py#151\u001b\\\u001b[2m151\u001b[0m\u001b]8;;\u001b\\\n"
      ]
     },
     "metadata": {},
     "output_type": "display_data"
    }
   ],
   "source": [
    "%load_ext kedro.ipython"
   ]
  },
  {
   "cell_type": "code",
   "execution_count": 2,
   "metadata": {},
   "outputs": [],
   "source": [
    "import numpy as np"
   ]
  },
  {
   "cell_type": "markdown",
   "metadata": {},
   "source": [
    "# Final report - house price prediction"
   ]
  },
  {
   "cell_type": "markdown",
   "metadata": {},
   "source": [
    "The project wa created using the data from danish real estate market from years 1992 - 2024 and used it to predict the house prices.\n",
    "\n",
    "https://www.kaggle.com/datasets/martinfrederiksen/danish-residential-housing-prices-1992-2024/data"
   ]
  },
  {
   "cell_type": "markdown",
   "metadata": {},
   "source": [
    "## Data exploration and Processing"
   ]
  },
  {
   "cell_type": "markdown",
   "metadata": {},
   "source": [
    "More details in the EDA notebook.\n",
    "\n",
    "We have performed encoding, missing values removal, log transformation as welll as some column transformation (date)."
   ]
  },
  {
   "cell_type": "code",
   "execution_count": 3,
   "metadata": {},
   "outputs": [
    {
     "data": {
      "text/html": [
       "<pre style=\"white-space:pre;overflow-x:auto;line-height:normal;font-family:Menlo,'DejaVu Sans Mono',consolas,'Courier New',monospace\"><span style=\"color: #7fbfbf; text-decoration-color: #7fbfbf\">[01/14/25 01:02:34] </span><span style=\"color: #000080; text-decoration-color: #000080\">INFO    </span> Loading data from <span style=\"color: #ff8700; text-decoration-color: #ff8700\">house_prices</span> <span style=\"font-weight: bold\">(</span>CSVDataset<span style=\"font-weight: bold\">)</span><span style=\"color: #808000; text-decoration-color: #808000\">...</span>                     <a href=\"file:///Users/zofiab/Documents/2024-2025/ML_project/House_prices/ML/venv/lib/python3.9/site-packages/kedro/io/data_catalog.py\" target=\"_blank\"><span style=\"color: #7f7f7f; text-decoration-color: #7f7f7f\">data_catalog.py</span></a><span style=\"color: #7f7f7f; text-decoration-color: #7f7f7f\">:</span><a href=\"file:///Users/zofiab/Documents/2024-2025/ML_project/House_prices/ML/venv/lib/python3.9/site-packages/kedro/io/data_catalog.py#389\" target=\"_blank\"><span style=\"color: #7f7f7f; text-decoration-color: #7f7f7f\">389</span></a>\n",
       "</pre>\n"
      ],
      "text/plain": [
       "\u001b[2;36m[01/14/25 01:02:34]\u001b[0m\u001b[2;36m \u001b[0m\u001b[34mINFO    \u001b[0m Loading data from \u001b[38;5;208mhouse_prices\u001b[0m \u001b[1m(\u001b[0mCSVDataset\u001b[1m)\u001b[0m\u001b[33m...\u001b[0m                     \u001b]8;id=327180;file:///Users/zofiab/Documents/2024-2025/ML_project/House_prices/ML/venv/lib/python3.9/site-packages/kedro/io/data_catalog.py\u001b\\\u001b[2mdata_catalog.py\u001b[0m\u001b]8;;\u001b\\\u001b[2m:\u001b[0m\u001b]8;id=715629;file:///Users/zofiab/Documents/2024-2025/ML_project/House_prices/ML/venv/lib/python3.9/site-packages/kedro/io/data_catalog.py#389\u001b\\\u001b[2m389\u001b[0m\u001b]8;;\u001b\\\n"
      ]
     },
     "metadata": {},
     "output_type": "display_data"
    },
    {
     "data": {
      "text/html": [
       "<pre style=\"white-space:pre;overflow-x:auto;line-height:normal;font-family:Menlo,'DejaVu Sans Mono',consolas,'Courier New',monospace\"></pre>\n"
      ],
      "text/plain": []
     },
     "metadata": {},
     "output_type": "display_data"
    },
    {
     "data": {
      "text/html": [
       "<div>\n",
       "<style scoped>\n",
       "    .dataframe tbody tr th:only-of-type {\n",
       "        vertical-align: middle;\n",
       "    }\n",
       "\n",
       "    .dataframe tbody tr th {\n",
       "        vertical-align: top;\n",
       "    }\n",
       "\n",
       "    .dataframe thead th {\n",
       "        text-align: right;\n",
       "    }\n",
       "</style>\n",
       "<table border=\"1\" class=\"dataframe\">\n",
       "  <thead>\n",
       "    <tr style=\"text-align: right;\">\n",
       "      <th></th>\n",
       "      <th>date</th>\n",
       "      <th>quarter</th>\n",
       "      <th>house_id</th>\n",
       "      <th>house_type</th>\n",
       "      <th>sales_type</th>\n",
       "      <th>year_build</th>\n",
       "      <th>purchase_price</th>\n",
       "      <th>%_change_between_offer_and_purchase</th>\n",
       "      <th>no_rooms</th>\n",
       "      <th>sqm</th>\n",
       "      <th>sqm_price</th>\n",
       "      <th>address</th>\n",
       "      <th>zip_code</th>\n",
       "      <th>city</th>\n",
       "      <th>area</th>\n",
       "      <th>region</th>\n",
       "      <th>nom_interest_rate%</th>\n",
       "      <th>dk_ann_infl_rate%</th>\n",
       "      <th>yield_on_mortgage_credit_bonds%</th>\n",
       "    </tr>\n",
       "  </thead>\n",
       "  <tbody>\n",
       "    <tr>\n",
       "      <th>0</th>\n",
       "      <td>2024-10-24</td>\n",
       "      <td>2024Q4</td>\n",
       "      <td>16</td>\n",
       "      <td>Villa</td>\n",
       "      <td>regular_sale</td>\n",
       "      <td>1997</td>\n",
       "      <td>6500000</td>\n",
       "      <td>-3.0</td>\n",
       "      <td>5</td>\n",
       "      <td>142.0</td>\n",
       "      <td>45774.6500</td>\n",
       "      <td>Spættevej 16</td>\n",
       "      <td>2680</td>\n",
       "      <td>Solrød Strand</td>\n",
       "      <td>Capital, Copenhagen</td>\n",
       "      <td>Zealand</td>\n",
       "      <td>3.1</td>\n",
       "      <td>NaN</td>\n",
       "      <td>NaN</td>\n",
       "    </tr>\n",
       "    <tr>\n",
       "      <th>1</th>\n",
       "      <td>2024-10-24</td>\n",
       "      <td>2024Q4</td>\n",
       "      <td>13</td>\n",
       "      <td>Apartment</td>\n",
       "      <td>regular_sale</td>\n",
       "      <td>1885</td>\n",
       "      <td>3400000</td>\n",
       "      <td>0.0</td>\n",
       "      <td>2</td>\n",
       "      <td>46.0</td>\n",
       "      <td>73913.0500</td>\n",
       "      <td>Jakob Dannefærds Vej 10B, 4. th</td>\n",
       "      <td>1973</td>\n",
       "      <td>Frederiksberg C</td>\n",
       "      <td>Capital, Copenhagen</td>\n",
       "      <td>Zealand</td>\n",
       "      <td>3.1</td>\n",
       "      <td>NaN</td>\n",
       "      <td>NaN</td>\n",
       "    </tr>\n",
       "    <tr>\n",
       "      <th>2</th>\n",
       "      <td>2024-10-23</td>\n",
       "      <td>2024Q4</td>\n",
       "      <td>60</td>\n",
       "      <td>Villa</td>\n",
       "      <td>regular_sale</td>\n",
       "      <td>1949</td>\n",
       "      <td>4550000</td>\n",
       "      <td>-4.0</td>\n",
       "      <td>4</td>\n",
       "      <td>112.0</td>\n",
       "      <td>40625.0000</td>\n",
       "      <td>Vestre Plantagevej 3</td>\n",
       "      <td>2680</td>\n",
       "      <td>Solrød Strand</td>\n",
       "      <td>Capital, Copenhagen</td>\n",
       "      <td>Zealand</td>\n",
       "      <td>3.1</td>\n",
       "      <td>NaN</td>\n",
       "      <td>NaN</td>\n",
       "    </tr>\n",
       "    <tr>\n",
       "      <th>3</th>\n",
       "      <td>2024-10-23</td>\n",
       "      <td>2024Q4</td>\n",
       "      <td>29</td>\n",
       "      <td>Villa</td>\n",
       "      <td>regular_sale</td>\n",
       "      <td>2001</td>\n",
       "      <td>1630000</td>\n",
       "      <td>-12.0</td>\n",
       "      <td>4</td>\n",
       "      <td>186.0</td>\n",
       "      <td>8763.4400</td>\n",
       "      <td>Toftebjerg 3</td>\n",
       "      <td>4400</td>\n",
       "      <td>Kalundborg</td>\n",
       "      <td>Other islands</td>\n",
       "      <td>Zealand</td>\n",
       "      <td>3.1</td>\n",
       "      <td>NaN</td>\n",
       "      <td>NaN</td>\n",
       "    </tr>\n",
       "    <tr>\n",
       "      <th>4</th>\n",
       "      <td>2024-10-22</td>\n",
       "      <td>2024Q4</td>\n",
       "      <td>92</td>\n",
       "      <td>Apartment</td>\n",
       "      <td>regular_sale</td>\n",
       "      <td>1965</td>\n",
       "      <td>1975000</td>\n",
       "      <td>-10.0</td>\n",
       "      <td>3</td>\n",
       "      <td>82.0</td>\n",
       "      <td>24085.3650</td>\n",
       "      <td>Ryttergårdsvej 20, 1. 113</td>\n",
       "      <td>3520</td>\n",
       "      <td>Farum</td>\n",
       "      <td>North Zealand</td>\n",
       "      <td>Zealand</td>\n",
       "      <td>3.1</td>\n",
       "      <td>NaN</td>\n",
       "      <td>NaN</td>\n",
       "    </tr>\n",
       "    <tr>\n",
       "      <th>...</th>\n",
       "      <td>...</td>\n",
       "      <td>...</td>\n",
       "      <td>...</td>\n",
       "      <td>...</td>\n",
       "      <td>...</td>\n",
       "      <td>...</td>\n",
       "      <td>...</td>\n",
       "      <td>...</td>\n",
       "      <td>...</td>\n",
       "      <td>...</td>\n",
       "      <td>...</td>\n",
       "      <td>...</td>\n",
       "      <td>...</td>\n",
       "      <td>...</td>\n",
       "      <td>...</td>\n",
       "      <td>...</td>\n",
       "      <td>...</td>\n",
       "      <td>...</td>\n",
       "      <td>...</td>\n",
       "    </tr>\n",
       "    <tr>\n",
       "      <th>99995</th>\n",
       "      <td>1992-01-06</td>\n",
       "      <td>1992Q1</td>\n",
       "      <td>1505832</td>\n",
       "      <td>Villa</td>\n",
       "      <td>family_sale</td>\n",
       "      <td>1970</td>\n",
       "      <td>1122000</td>\n",
       "      <td>0.0</td>\n",
       "      <td>4</td>\n",
       "      <td>150.0</td>\n",
       "      <td>7480.0000</td>\n",
       "      <td>Brudedalen 30</td>\n",
       "      <td>3520</td>\n",
       "      <td>Farum</td>\n",
       "      <td>North Zealand</td>\n",
       "      <td>Zealand</td>\n",
       "      <td>9.5</td>\n",
       "      <td>2.1</td>\n",
       "      <td>10.14</td>\n",
       "    </tr>\n",
       "    <tr>\n",
       "      <th>99996</th>\n",
       "      <td>1992-01-06</td>\n",
       "      <td>1992Q1</td>\n",
       "      <td>1505823</td>\n",
       "      <td>Villa</td>\n",
       "      <td>regular_sale</td>\n",
       "      <td>1898</td>\n",
       "      <td>452000</td>\n",
       "      <td>0.0</td>\n",
       "      <td>5</td>\n",
       "      <td>102.0</td>\n",
       "      <td>4431.3726</td>\n",
       "      <td>Bregningevej 1</td>\n",
       "      <td>4593</td>\n",
       "      <td>Eskebjerg</td>\n",
       "      <td>Other islands</td>\n",
       "      <td>Zealand</td>\n",
       "      <td>9.5</td>\n",
       "      <td>2.1</td>\n",
       "      <td>10.14</td>\n",
       "    </tr>\n",
       "    <tr>\n",
       "      <th>99997</th>\n",
       "      <td>1992-01-06</td>\n",
       "      <td>1992Q1</td>\n",
       "      <td>1505817</td>\n",
       "      <td>Apartment</td>\n",
       "      <td>regular_sale</td>\n",
       "      <td>1890</td>\n",
       "      <td>1285000</td>\n",
       "      <td>0.0</td>\n",
       "      <td>4</td>\n",
       "      <td>246.0</td>\n",
       "      <td>5223.5770</td>\n",
       "      <td>Rosengade 15, 1</td>\n",
       "      <td>4200</td>\n",
       "      <td>Slagelse</td>\n",
       "      <td>Other islands</td>\n",
       "      <td>Zealand</td>\n",
       "      <td>9.5</td>\n",
       "      <td>2.1</td>\n",
       "      <td>10.14</td>\n",
       "    </tr>\n",
       "    <tr>\n",
       "      <th>99998</th>\n",
       "      <td>1992-01-05</td>\n",
       "      <td>1992Q1</td>\n",
       "      <td>1505868</td>\n",
       "      <td>Villa</td>\n",
       "      <td>family_sale</td>\n",
       "      <td>1954</td>\n",
       "      <td>800000</td>\n",
       "      <td>0.0</td>\n",
       "      <td>6</td>\n",
       "      <td>147.0</td>\n",
       "      <td>5442.1770</td>\n",
       "      <td>Nygårdsvej 112</td>\n",
       "      <td>6700</td>\n",
       "      <td>Esbjerg</td>\n",
       "      <td>South jutland</td>\n",
       "      <td>Jutland</td>\n",
       "      <td>9.5</td>\n",
       "      <td>2.1</td>\n",
       "      <td>10.14</td>\n",
       "    </tr>\n",
       "    <tr>\n",
       "      <th>99999</th>\n",
       "      <td>1992-01-05</td>\n",
       "      <td>1992Q1</td>\n",
       "      <td>1505872</td>\n",
       "      <td>Villa</td>\n",
       "      <td>regular_sale</td>\n",
       "      <td>1956</td>\n",
       "      <td>730000</td>\n",
       "      <td>0.0</td>\n",
       "      <td>5</td>\n",
       "      <td>110.0</td>\n",
       "      <td>6636.3640</td>\n",
       "      <td>Grundtvigs Alle 115</td>\n",
       "      <td>6400</td>\n",
       "      <td>Sønderborg</td>\n",
       "      <td>South jutland</td>\n",
       "      <td>Jutland</td>\n",
       "      <td>9.5</td>\n",
       "      <td>2.1</td>\n",
       "      <td>10.14</td>\n",
       "    </tr>\n",
       "  </tbody>\n",
       "</table>\n",
       "<p>100000 rows × 19 columns</p>\n",
       "</div>"
      ],
      "text/plain": [
       "\n",
       "             date quarter  house_id house_type    sales_type  year_build  \\\n",
       "\u001b[1;36m0\u001b[0m      \u001b[1;36m2024\u001b[0m-\u001b[1;36m10\u001b[0m-\u001b[1;36m24\u001b[0m  2024Q4        \u001b[1;36m16\u001b[0m      Villa  regular_sale        \u001b[1;36m1997\u001b[0m   \n",
       "\u001b[1;36m1\u001b[0m      \u001b[1;36m2024\u001b[0m-\u001b[1;36m10\u001b[0m-\u001b[1;36m24\u001b[0m  2024Q4        \u001b[1;36m13\u001b[0m  Apartment  regular_sale        \u001b[1;36m1885\u001b[0m   \n",
       "\u001b[1;36m2\u001b[0m      \u001b[1;36m2024\u001b[0m-\u001b[1;36m10\u001b[0m-\u001b[1;36m23\u001b[0m  2024Q4        \u001b[1;36m60\u001b[0m      Villa  regular_sale        \u001b[1;36m1949\u001b[0m   \n",
       "\u001b[1;36m3\u001b[0m      \u001b[1;36m2024\u001b[0m-\u001b[1;36m10\u001b[0m-\u001b[1;36m23\u001b[0m  2024Q4        \u001b[1;36m29\u001b[0m      Villa  regular_sale        \u001b[1;36m2001\u001b[0m   \n",
       "\u001b[1;36m4\u001b[0m      \u001b[1;36m2024\u001b[0m-\u001b[1;36m10\u001b[0m-\u001b[1;36m22\u001b[0m  2024Q4        \u001b[1;36m92\u001b[0m  Apartment  regular_sale        \u001b[1;36m1965\u001b[0m   \n",
       "\u001b[33m...\u001b[0m           \u001b[33m...\u001b[0m     \u001b[33m...\u001b[0m       \u001b[33m...\u001b[0m        \u001b[33m...\u001b[0m           \u001b[33m...\u001b[0m         \u001b[33m...\u001b[0m   \n",
       "\u001b[1;36m99995\u001b[0m  \u001b[1;36m1992\u001b[0m-\u001b[1;36m01\u001b[0m-\u001b[1;36m06\u001b[0m  1992Q1   \u001b[1;36m1505832\u001b[0m      Villa   family_sale        \u001b[1;36m1970\u001b[0m   \n",
       "\u001b[1;36m99996\u001b[0m  \u001b[1;36m1992\u001b[0m-\u001b[1;36m01\u001b[0m-\u001b[1;36m06\u001b[0m  1992Q1   \u001b[1;36m1505823\u001b[0m      Villa  regular_sale        \u001b[1;36m1898\u001b[0m   \n",
       "\u001b[1;36m99997\u001b[0m  \u001b[1;36m1992\u001b[0m-\u001b[1;36m01\u001b[0m-\u001b[1;36m06\u001b[0m  1992Q1   \u001b[1;36m1505817\u001b[0m  Apartment  regular_sale        \u001b[1;36m1890\u001b[0m   \n",
       "\u001b[1;36m99998\u001b[0m  \u001b[1;36m1992\u001b[0m-\u001b[1;36m01\u001b[0m-\u001b[1;36m05\u001b[0m  1992Q1   \u001b[1;36m1505868\u001b[0m      Villa   family_sale        \u001b[1;36m1954\u001b[0m   \n",
       "\u001b[1;36m99999\u001b[0m  \u001b[1;36m1992\u001b[0m-\u001b[1;36m01\u001b[0m-\u001b[1;36m05\u001b[0m  1992Q1   \u001b[1;36m1505872\u001b[0m      Villa  regular_sale        \u001b[1;36m1956\u001b[0m   \n",
       "\n",
       "       purchase_price  %_change_between_offer_and_purchase  no_rooms    sqm  \\\n",
       "\u001b[1;36m0\u001b[0m             \u001b[1;36m6500000\u001b[0m                                 \u001b[1;36m-3.0\u001b[0m         \u001b[1;36m5\u001b[0m  \u001b[1;36m142.0\u001b[0m   \n",
       "\u001b[1;36m1\u001b[0m             \u001b[1;36m3400000\u001b[0m                                  \u001b[1;36m0.0\u001b[0m         \u001b[1;36m2\u001b[0m   \u001b[1;36m46.0\u001b[0m   \n",
       "\u001b[1;36m2\u001b[0m             \u001b[1;36m4550000\u001b[0m                                 \u001b[1;36m-4.0\u001b[0m         \u001b[1;36m4\u001b[0m  \u001b[1;36m112.0\u001b[0m   \n",
       "\u001b[1;36m3\u001b[0m             \u001b[1;36m1630000\u001b[0m                                \u001b[1;36m-12.0\u001b[0m         \u001b[1;36m4\u001b[0m  \u001b[1;36m186.0\u001b[0m   \n",
       "\u001b[1;36m4\u001b[0m             \u001b[1;36m1975000\u001b[0m                                \u001b[1;36m-10.0\u001b[0m         \u001b[1;36m3\u001b[0m   \u001b[1;36m82.0\u001b[0m   \n",
       "\u001b[33m...\u001b[0m               \u001b[33m...\u001b[0m                                  \u001b[33m...\u001b[0m       \u001b[33m...\u001b[0m    \u001b[33m...\u001b[0m   \n",
       "\u001b[1;36m99995\u001b[0m         \u001b[1;36m1122000\u001b[0m                                  \u001b[1;36m0.0\u001b[0m         \u001b[1;36m4\u001b[0m  \u001b[1;36m150.0\u001b[0m   \n",
       "\u001b[1;36m99996\u001b[0m          \u001b[1;36m452000\u001b[0m                                  \u001b[1;36m0.0\u001b[0m         \u001b[1;36m5\u001b[0m  \u001b[1;36m102.0\u001b[0m   \n",
       "\u001b[1;36m99997\u001b[0m         \u001b[1;36m1285000\u001b[0m                                  \u001b[1;36m0.0\u001b[0m         \u001b[1;36m4\u001b[0m  \u001b[1;36m246.0\u001b[0m   \n",
       "\u001b[1;36m99998\u001b[0m          \u001b[1;36m800000\u001b[0m                                  \u001b[1;36m0.0\u001b[0m         \u001b[1;36m6\u001b[0m  \u001b[1;36m147.0\u001b[0m   \n",
       "\u001b[1;36m99999\u001b[0m          \u001b[1;36m730000\u001b[0m                                  \u001b[1;36m0.0\u001b[0m         \u001b[1;36m5\u001b[0m  \u001b[1;36m110.0\u001b[0m   \n",
       "\n",
       "        sqm_price                          address  zip_code             city  \\\n",
       "\u001b[1;36m0\u001b[0m      \u001b[1;36m45774.6500\u001b[0m                     Spættevej \u001b[1;36m16\u001b[0m      \u001b[1;36m2680\u001b[0m    Solrød Strand   \n",
       "\u001b[1;36m1\u001b[0m      \u001b[1;36m73913.0500\u001b[0m  Jakob Dannefærds Vej 10B, \u001b[1;36m4\u001b[0m. th      \u001b[1;36m1973\u001b[0m  Frederiksberg C   \n",
       "\u001b[1;36m2\u001b[0m      \u001b[1;36m40625.0000\u001b[0m             Vestre Plantagevej \u001b[1;36m3\u001b[0m      \u001b[1;36m2680\u001b[0m    Solrød Strand   \n",
       "\u001b[1;36m3\u001b[0m       \u001b[1;36m8763.4400\u001b[0m                     Toftebjerg \u001b[1;36m3\u001b[0m      \u001b[1;36m4400\u001b[0m       Kalundborg   \n",
       "\u001b[1;36m4\u001b[0m      \u001b[1;36m24085.3650\u001b[0m        Ryttergårdsvej \u001b[1;36m20\u001b[0m, \u001b[1;36m1\u001b[0m. \u001b[1;36m113\u001b[0m      \u001b[1;36m3520\u001b[0m            Farum   \n",
       "\u001b[33m...\u001b[0m           \u001b[33m...\u001b[0m                              \u001b[33m...\u001b[0m       \u001b[33m...\u001b[0m              \u001b[33m...\u001b[0m   \n",
       "\u001b[1;36m99995\u001b[0m   \u001b[1;36m7480.0000\u001b[0m                    Brudedalen \u001b[1;36m30\u001b[0m      \u001b[1;36m3520\u001b[0m            Farum   \n",
       "\u001b[1;36m99996\u001b[0m   \u001b[1;36m4431.3726\u001b[0m                   Bregningevej \u001b[1;36m1\u001b[0m      \u001b[1;36m4593\u001b[0m        Eskebjerg   \n",
       "\u001b[1;36m99997\u001b[0m   \u001b[1;36m5223.5770\u001b[0m                  Rosengade \u001b[1;36m15\u001b[0m, \u001b[1;36m1\u001b[0m      \u001b[1;36m4200\u001b[0m         Slagelse   \n",
       "\u001b[1;36m99998\u001b[0m   \u001b[1;36m5442.1770\u001b[0m                   Nygårdsvej \u001b[1;36m112\u001b[0m      \u001b[1;36m6700\u001b[0m          Esbjerg   \n",
       "\u001b[1;36m99999\u001b[0m   \u001b[1;36m6636.3640\u001b[0m              Grundtvigs Alle \u001b[1;36m115\u001b[0m      \u001b[1;36m6400\u001b[0m       Sønderborg   \n",
       "\n",
       "                      area   region  nom_interest_rate%  dk_ann_infl_rate%  \\\n",
       "\u001b[1;36m0\u001b[0m      Capital, Copenhagen  Zealand                 \u001b[1;36m3.1\u001b[0m                NaN   \n",
       "\u001b[1;36m1\u001b[0m      Capital, Copenhagen  Zealand                 \u001b[1;36m3.1\u001b[0m                NaN   \n",
       "\u001b[1;36m2\u001b[0m      Capital, Copenhagen  Zealand                 \u001b[1;36m3.1\u001b[0m                NaN   \n",
       "\u001b[1;36m3\u001b[0m            Other islands  Zealand                 \u001b[1;36m3.1\u001b[0m                NaN   \n",
       "\u001b[1;36m4\u001b[0m            North Zealand  Zealand                 \u001b[1;36m3.1\u001b[0m                NaN   \n",
       "\u001b[33m...\u001b[0m                    \u001b[33m...\u001b[0m      \u001b[33m...\u001b[0m                 \u001b[33m...\u001b[0m                \u001b[33m...\u001b[0m   \n",
       "\u001b[1;36m99995\u001b[0m        North Zealand  Zealand                 \u001b[1;36m9.5\u001b[0m                \u001b[1;36m2.1\u001b[0m   \n",
       "\u001b[1;36m99996\u001b[0m        Other islands  Zealand                 \u001b[1;36m9.5\u001b[0m                \u001b[1;36m2.1\u001b[0m   \n",
       "\u001b[1;36m99997\u001b[0m        Other islands  Zealand                 \u001b[1;36m9.5\u001b[0m                \u001b[1;36m2.1\u001b[0m   \n",
       "\u001b[1;36m99998\u001b[0m        South jutland  Jutland                 \u001b[1;36m9.5\u001b[0m                \u001b[1;36m2.1\u001b[0m   \n",
       "\u001b[1;36m99999\u001b[0m        South jutland  Jutland                 \u001b[1;36m9.5\u001b[0m                \u001b[1;36m2.1\u001b[0m   \n",
       "\n",
       "       yield_on_mortgage_credit_bonds%  \n",
       "\u001b[1;36m0\u001b[0m                                  NaN  \n",
       "\u001b[1;36m1\u001b[0m                                  NaN  \n",
       "\u001b[1;36m2\u001b[0m                                  NaN  \n",
       "\u001b[1;36m3\u001b[0m                                  NaN  \n",
       "\u001b[1;36m4\u001b[0m                                  NaN  \n",
       "\u001b[33m...\u001b[0m                                \u001b[33m...\u001b[0m  \n",
       "\u001b[1;36m99995\u001b[0m                            \u001b[1;36m10.14\u001b[0m  \n",
       "\u001b[1;36m99996\u001b[0m                            \u001b[1;36m10.14\u001b[0m  \n",
       "\u001b[1;36m99997\u001b[0m                            \u001b[1;36m10.14\u001b[0m  \n",
       "\u001b[1;36m99998\u001b[0m                            \u001b[1;36m10.14\u001b[0m  \n",
       "\u001b[1;36m99999\u001b[0m                            \u001b[1;36m10.14\u001b[0m  \n",
       "\n",
       "\u001b[1m[\u001b[0m\u001b[1;36m100000\u001b[0m rows x \u001b[1;36m19\u001b[0m columns\u001b[1m]\u001b[0m"
      ]
     },
     "execution_count": 3,
     "metadata": {},
     "output_type": "execute_result"
    }
   ],
   "source": [
    "catalog.load(\"house_prices\")"
   ]
  },
  {
   "cell_type": "markdown",
   "metadata": {},
   "source": [
    "## Modelling"
   ]
  },
  {
   "cell_type": "markdown",
   "metadata": {},
   "source": [
    "#### Linear Regression - benchmark"
   ]
  },
  {
   "cell_type": "code",
   "execution_count": 4,
   "metadata": {},
   "outputs": [
    {
     "data": {
      "text/html": [
       "<pre style=\"white-space:pre;overflow-x:auto;line-height:normal;font-family:Menlo,'DejaVu Sans Mono',consolas,'Courier New',monospace\"><span style=\"color: #7fbfbf; text-decoration-color: #7fbfbf\">[01/14/25 01:02:37] </span><span style=\"color: #000080; text-decoration-color: #000080\">INFO    </span> Loading data from <span style=\"color: #ff8700; text-decoration-color: #ff8700\">linear_regression_test_scores</span> <span style=\"font-weight: bold\">(</span>JSONDataset<span style=\"font-weight: bold\">)</span><span style=\"color: #808000; text-decoration-color: #808000\">...</span>   <a href=\"file:///Users/zofiab/Documents/2024-2025/ML_project/House_prices/ML/venv/lib/python3.9/site-packages/kedro/io/data_catalog.py\" target=\"_blank\"><span style=\"color: #7f7f7f; text-decoration-color: #7f7f7f\">data_catalog.py</span></a><span style=\"color: #7f7f7f; text-decoration-color: #7f7f7f\">:</span><a href=\"file:///Users/zofiab/Documents/2024-2025/ML_project/House_prices/ML/venv/lib/python3.9/site-packages/kedro/io/data_catalog.py#389\" target=\"_blank\"><span style=\"color: #7f7f7f; text-decoration-color: #7f7f7f\">389</span></a>\n",
       "</pre>\n"
      ],
      "text/plain": [
       "\u001b[2;36m[01/14/25 01:02:37]\u001b[0m\u001b[2;36m \u001b[0m\u001b[34mINFO    \u001b[0m Loading data from \u001b[38;5;208mlinear_regression_test_scores\u001b[0m \u001b[1m(\u001b[0mJSONDataset\u001b[1m)\u001b[0m\u001b[33m...\u001b[0m   \u001b]8;id=317763;file:///Users/zofiab/Documents/2024-2025/ML_project/House_prices/ML/venv/lib/python3.9/site-packages/kedro/io/data_catalog.py\u001b\\\u001b[2mdata_catalog.py\u001b[0m\u001b]8;;\u001b\\\u001b[2m:\u001b[0m\u001b]8;id=823491;file:///Users/zofiab/Documents/2024-2025/ML_project/House_prices/ML/venv/lib/python3.9/site-packages/kedro/io/data_catalog.py#389\u001b\\\u001b[2m389\u001b[0m\u001b]8;;\u001b\\\n"
      ]
     },
     "metadata": {},
     "output_type": "display_data"
    },
    {
     "data": {
      "text/html": [
       "<pre style=\"white-space:pre;overflow-x:auto;line-height:normal;font-family:Menlo,'DejaVu Sans Mono',consolas,'Courier New',monospace\"></pre>\n"
      ],
      "text/plain": []
     },
     "metadata": {},
     "output_type": "display_data"
    },
    {
     "data": {
      "text/plain": [
       "\n",
       "\u001b[1m{\u001b[0m\n",
       "    \u001b[32m'model'\u001b[0m: \u001b[32m'Linear Regression'\u001b[0m,\n",
       "    \u001b[32m'mse'\u001b[0m: \u001b[1;36m6825044604855.71\u001b[0m,\n",
       "    \u001b[32m'rmse'\u001b[0m: \u001b[1;36m2612478.6324208872\u001b[0m,\n",
       "    \u001b[32m'mae'\u001b[0m: \u001b[1;36m1918748.2805984241\u001b[0m,\n",
       "    \u001b[32m'mape'\u001b[0m: \u001b[1;36m99.99992365366815\u001b[0m,\n",
       "    \u001b[32m'r2'\u001b[0m: \u001b[1;36m-1.1711924363400712\u001b[0m,\n",
       "    \u001b[32m'adjusted_r2'\u001b[0m: \u001b[1;36m-1.175652747487979\u001b[0m\n",
       "\u001b[1m}\u001b[0m"
      ]
     },
     "execution_count": 4,
     "metadata": {},
     "output_type": "execute_result"
    }
   ],
   "source": [
    "catalog.load(\"linear_regression_test_scores\")"
   ]
  },
  {
   "cell_type": "markdown",
   "metadata": {},
   "source": [
    "#### LightGBM"
   ]
  },
  {
   "cell_type": "code",
   "execution_count": 6,
   "metadata": {},
   "outputs": [
    {
     "data": {
      "text/html": [
       "<pre style=\"white-space:pre;overflow-x:auto;line-height:normal;font-family:Menlo,'DejaVu Sans Mono',consolas,'Courier New',monospace\"><span style=\"color: #7fbfbf; text-decoration-color: #7fbfbf\">[01/14/25 01:02:51] </span><span style=\"color: #000080; text-decoration-color: #000080\">INFO    </span> Loading data from <span style=\"color: #ff8700; text-decoration-color: #ff8700\">lightgbm_test_scores</span> <span style=\"font-weight: bold\">(</span>JSONDataset<span style=\"font-weight: bold\">)</span><span style=\"color: #808000; text-decoration-color: #808000\">...</span>            <a href=\"file:///Users/zofiab/Documents/2024-2025/ML_project/House_prices/ML/venv/lib/python3.9/site-packages/kedro/io/data_catalog.py\" target=\"_blank\"><span style=\"color: #7f7f7f; text-decoration-color: #7f7f7f\">data_catalog.py</span></a><span style=\"color: #7f7f7f; text-decoration-color: #7f7f7f\">:</span><a href=\"file:///Users/zofiab/Documents/2024-2025/ML_project/House_prices/ML/venv/lib/python3.9/site-packages/kedro/io/data_catalog.py#389\" target=\"_blank\"><span style=\"color: #7f7f7f; text-decoration-color: #7f7f7f\">389</span></a>\n",
       "</pre>\n"
      ],
      "text/plain": [
       "\u001b[2;36m[01/14/25 01:02:51]\u001b[0m\u001b[2;36m \u001b[0m\u001b[34mINFO    \u001b[0m Loading data from \u001b[38;5;208mlightgbm_test_scores\u001b[0m \u001b[1m(\u001b[0mJSONDataset\u001b[1m)\u001b[0m\u001b[33m...\u001b[0m            \u001b]8;id=722146;file:///Users/zofiab/Documents/2024-2025/ML_project/House_prices/ML/venv/lib/python3.9/site-packages/kedro/io/data_catalog.py\u001b\\\u001b[2mdata_catalog.py\u001b[0m\u001b]8;;\u001b\\\u001b[2m:\u001b[0m\u001b]8;id=526837;file:///Users/zofiab/Documents/2024-2025/ML_project/House_prices/ML/venv/lib/python3.9/site-packages/kedro/io/data_catalog.py#389\u001b\\\u001b[2m389\u001b[0m\u001b]8;;\u001b\\\n"
      ]
     },
     "metadata": {},
     "output_type": "display_data"
    },
    {
     "data": {
      "text/html": [
       "<pre style=\"white-space:pre;overflow-x:auto;line-height:normal;font-family:Menlo,'DejaVu Sans Mono',consolas,'Courier New',monospace\"></pre>\n"
      ],
      "text/plain": []
     },
     "metadata": {},
     "output_type": "display_data"
    },
    {
     "data": {
      "text/plain": [
       "\n",
       "\u001b[1m{\u001b[0m\n",
       "    \u001b[32m'model'\u001b[0m: \u001b[32m'LightGBM'\u001b[0m,\n",
       "    \u001b[32m'mse'\u001b[0m: \u001b[1;36m14402105266.166584\u001b[0m,\n",
       "    \u001b[32m'rmse'\u001b[0m: \u001b[1;36m120008.77162177181\u001b[0m,\n",
       "    \u001b[32m'mae'\u001b[0m: \u001b[1;36m16781.87583823465\u001b[0m,\n",
       "    \u001b[32m'mape'\u001b[0m: \u001b[1;36m0.773175379044863\u001b[0m,\n",
       "    \u001b[32m'r2'\u001b[0m: \u001b[1;36m0.9954183827606009\u001b[0m,\n",
       "    \u001b[32m'adjusted_r2'\u001b[0m: \u001b[1;36m0.9954089706798906\u001b[0m\n",
       "\u001b[1m}\u001b[0m"
      ]
     },
     "execution_count": 6,
     "metadata": {},
     "output_type": "execute_result"
    }
   ],
   "source": [
    "catalog.load(\"lightgbm_test_scores\")"
   ]
  },
  {
   "cell_type": "markdown",
   "metadata": {},
   "source": [
    "#### XGBoost"
   ]
  },
  {
   "cell_type": "code",
   "execution_count": 8,
   "metadata": {},
   "outputs": [
    {
     "data": {
      "text/html": [
       "<pre style=\"white-space:pre;overflow-x:auto;line-height:normal;font-family:Menlo,'DejaVu Sans Mono',consolas,'Courier New',monospace\"><span style=\"color: #7fbfbf; text-decoration-color: #7fbfbf\">[01/14/25 01:03:22] </span><span style=\"color: #000080; text-decoration-color: #000080\">INFO    </span> Loading data from <span style=\"color: #ff8700; text-decoration-color: #ff8700\">xgboost_test_scores</span> <span style=\"font-weight: bold\">(</span>JSONDataset<span style=\"font-weight: bold\">)</span><span style=\"color: #808000; text-decoration-color: #808000\">...</span>             <a href=\"file:///Users/zofiab/Documents/2024-2025/ML_project/House_prices/ML/venv/lib/python3.9/site-packages/kedro/io/data_catalog.py\" target=\"_blank\"><span style=\"color: #7f7f7f; text-decoration-color: #7f7f7f\">data_catalog.py</span></a><span style=\"color: #7f7f7f; text-decoration-color: #7f7f7f\">:</span><a href=\"file:///Users/zofiab/Documents/2024-2025/ML_project/House_prices/ML/venv/lib/python3.9/site-packages/kedro/io/data_catalog.py#389\" target=\"_blank\"><span style=\"color: #7f7f7f; text-decoration-color: #7f7f7f\">389</span></a>\n",
       "</pre>\n"
      ],
      "text/plain": [
       "\u001b[2;36m[01/14/25 01:03:22]\u001b[0m\u001b[2;36m \u001b[0m\u001b[34mINFO    \u001b[0m Loading data from \u001b[38;5;208mxgboost_test_scores\u001b[0m \u001b[1m(\u001b[0mJSONDataset\u001b[1m)\u001b[0m\u001b[33m...\u001b[0m             \u001b]8;id=861243;file:///Users/zofiab/Documents/2024-2025/ML_project/House_prices/ML/venv/lib/python3.9/site-packages/kedro/io/data_catalog.py\u001b\\\u001b[2mdata_catalog.py\u001b[0m\u001b]8;;\u001b\\\u001b[2m:\u001b[0m\u001b]8;id=95251;file:///Users/zofiab/Documents/2024-2025/ML_project/House_prices/ML/venv/lib/python3.9/site-packages/kedro/io/data_catalog.py#389\u001b\\\u001b[2m389\u001b[0m\u001b]8;;\u001b\\\n"
      ]
     },
     "metadata": {},
     "output_type": "display_data"
    },
    {
     "data": {
      "text/html": [
       "<pre style=\"white-space:pre;overflow-x:auto;line-height:normal;font-family:Menlo,'DejaVu Sans Mono',consolas,'Courier New',monospace\"></pre>\n"
      ],
      "text/plain": []
     },
     "metadata": {},
     "output_type": "display_data"
    },
    {
     "data": {
      "text/plain": [
       "\n",
       "\u001b[1m{\u001b[0m\n",
       "    \u001b[32m'model'\u001b[0m: \u001b[32m'XGBoost'\u001b[0m,\n",
       "    \u001b[32m'mse'\u001b[0m: \u001b[1;36m39780617796.09637\u001b[0m,\n",
       "    \u001b[32m'rmse'\u001b[0m: \u001b[1;36m199450.7904123129\u001b[0m,\n",
       "    \u001b[32m'mae'\u001b[0m: \u001b[1;36m28092.509271875\u001b[0m,\n",
       "    \u001b[32m'mape'\u001b[0m: \u001b[1;36m1.2398633815374374\u001b[0m,\n",
       "    \u001b[32m'r2'\u001b[0m: \u001b[1;36m0.9873449206352234\u001b[0m,\n",
       "    \u001b[32m'adjusted_r2'\u001b[0m: \u001b[1;36m0.9873189231277599\u001b[0m\n",
       "\u001b[1m}\u001b[0m"
      ]
     },
     "execution_count": 8,
     "metadata": {},
     "output_type": "execute_result"
    }
   ],
   "source": [
    "catalog.load(\"xgboost_test_scores\")"
   ]
  },
  {
   "cell_type": "markdown",
   "metadata": {},
   "source": [
    "#### CatBoost"
   ]
  },
  {
   "cell_type": "code",
   "execution_count": 10,
   "metadata": {},
   "outputs": [
    {
     "data": {
      "text/html": [
       "<pre style=\"white-space:pre;overflow-x:auto;line-height:normal;font-family:Menlo,'DejaVu Sans Mono',consolas,'Courier New',monospace\"><span style=\"color: #7fbfbf; text-decoration-color: #7fbfbf\">[01/14/25 01:03:31] </span><span style=\"color: #000080; text-decoration-color: #000080\">INFO    </span> Loading data from <span style=\"color: #ff8700; text-decoration-color: #ff8700\">catboost_test_scores</span> <span style=\"font-weight: bold\">(</span>JSONDataset<span style=\"font-weight: bold\">)</span><span style=\"color: #808000; text-decoration-color: #808000\">...</span>            <a href=\"file:///Users/zofiab/Documents/2024-2025/ML_project/House_prices/ML/venv/lib/python3.9/site-packages/kedro/io/data_catalog.py\" target=\"_blank\"><span style=\"color: #7f7f7f; text-decoration-color: #7f7f7f\">data_catalog.py</span></a><span style=\"color: #7f7f7f; text-decoration-color: #7f7f7f\">:</span><a href=\"file:///Users/zofiab/Documents/2024-2025/ML_project/House_prices/ML/venv/lib/python3.9/site-packages/kedro/io/data_catalog.py#389\" target=\"_blank\"><span style=\"color: #7f7f7f; text-decoration-color: #7f7f7f\">389</span></a>\n",
       "</pre>\n"
      ],
      "text/plain": [
       "\u001b[2;36m[01/14/25 01:03:31]\u001b[0m\u001b[2;36m \u001b[0m\u001b[34mINFO    \u001b[0m Loading data from \u001b[38;5;208mcatboost_test_scores\u001b[0m \u001b[1m(\u001b[0mJSONDataset\u001b[1m)\u001b[0m\u001b[33m...\u001b[0m            \u001b]8;id=895297;file:///Users/zofiab/Documents/2024-2025/ML_project/House_prices/ML/venv/lib/python3.9/site-packages/kedro/io/data_catalog.py\u001b\\\u001b[2mdata_catalog.py\u001b[0m\u001b]8;;\u001b\\\u001b[2m:\u001b[0m\u001b]8;id=495735;file:///Users/zofiab/Documents/2024-2025/ML_project/House_prices/ML/venv/lib/python3.9/site-packages/kedro/io/data_catalog.py#389\u001b\\\u001b[2m389\u001b[0m\u001b]8;;\u001b\\\n"
      ]
     },
     "metadata": {},
     "output_type": "display_data"
    },
    {
     "data": {
      "text/html": [
       "<pre style=\"white-space:pre;overflow-x:auto;line-height:normal;font-family:Menlo,'DejaVu Sans Mono',consolas,'Courier New',monospace\"></pre>\n"
      ],
      "text/plain": []
     },
     "metadata": {},
     "output_type": "display_data"
    },
    {
     "data": {
      "text/plain": [
       "\n",
       "\u001b[1m{\u001b[0m\n",
       "    \u001b[32m'model'\u001b[0m: \u001b[32m'CatBoost'\u001b[0m,\n",
       "    \u001b[32m'mse'\u001b[0m: \u001b[1;36m5155527080.860986\u001b[0m,\n",
       "    \u001b[32m'rmse'\u001b[0m: \u001b[1;36m71801.99914250986\u001b[0m,\n",
       "    \u001b[32m'mae'\u001b[0m: \u001b[1;36m11115.670021857122\u001b[0m,\n",
       "    \u001b[32m'mape'\u001b[0m: \u001b[1;36m0.5196481978316203\u001b[0m,\n",
       "    \u001b[32m'r2'\u001b[0m: \u001b[1;36m0.9983599167402734\u001b[0m,\n",
       "    \u001b[32m'adjusted_r2'\u001b[0m: \u001b[1;36m0.9983565474941741\u001b[0m\n",
       "\u001b[1m}\u001b[0m"
      ]
     },
     "execution_count": 10,
     "metadata": {},
     "output_type": "execute_result"
    }
   ],
   "source": [
    "catalog.load(\"catboost_test_scores\")"
   ]
  },
  {
   "cell_type": "markdown",
   "metadata": {},
   "source": []
  },
  {
   "cell_type": "markdown",
   "metadata": {},
   "source": [
    "You can use the command below to open the visualisation of the whole project"
   ]
  },
  {
   "cell_type": "code",
   "execution_count": 2,
   "metadata": {},
   "outputs": [
    {
     "name": "stdout",
     "output_type": "stream",
     "text": [
      "\u001b[2;36m[01/13/25 17:09:12]\u001b[0m\u001b[2;36m \u001b[0m\u001b[34mINFO    \u001b[0m Using                               \u001b]8;id=560175;file:///Users/zofiab/Documents/2024-2025/ML_project/House_prices/ML/venv/lib/python3.9/site-packages/kedro/framework/project/__init__.py\u001b\\\u001b[2m__init__.py\u001b[0m\u001b]8;;\u001b\\\u001b[2m:\u001b[0m\u001b]8;id=900846;file:///Users/zofiab/Documents/2024-2025/ML_project/House_prices/ML/venv/lib/python3.9/site-packages/kedro/framework/project/__init__.py#270\u001b\\\u001b[2m270\u001b[0m\u001b]8;;\u001b\\\n",
      "\u001b[2;36m                    \u001b[0m         \u001b[32m'/Users/zofiab/Documents/2024-2025/\u001b[0m \u001b[2m               \u001b[0m\n",
      "\u001b[2;36m                    \u001b[0m         \u001b[32mML_project/House_prices/ML/venv/lib\u001b[0m \u001b[2m               \u001b[0m\n",
      "\u001b[2;36m                    \u001b[0m         \u001b[32m/python3.9/site-packages/kedro/fram\u001b[0m \u001b[2m               \u001b[0m\n",
      "\u001b[2;36m                    \u001b[0m         \u001b[32mework/project/rich_logging.yml'\u001b[0m as  \u001b[2m               \u001b[0m\n",
      "\u001b[2;36m                    \u001b[0m         logging configuration.              \u001b[2m               \u001b[0m\n",
      "\u001b[2;36m[01/13/25 17:09:13]\u001b[0m\u001b[2;36m \u001b[0m\u001b[33mWARNING \u001b[0m \u001b[35m/Users/zofiab/Documents/2024-2025/M\u001b[0m \u001b]8;id=15513;file:///Library/Developer/CommandLineTools/Library/Frameworks/Python3.framework/Versions/3.9/lib/python3.9/warnings.py\u001b\\\u001b[2mwarnings.py\u001b[0m\u001b]8;;\u001b\\\u001b[2m:\u001b[0m\u001b]8;id=202561;file:///Library/Developer/CommandLineTools/Library/Frameworks/Python3.framework/Versions/3.9/lib/python3.9/warnings.py#109\u001b\\\u001b[2m109\u001b[0m\u001b]8;;\u001b\\\n",
      "\u001b[2;36m                    \u001b[0m         \u001b[35mL_project/House_prices/ML/venv/lib/\u001b[0m \u001b[2m               \u001b[0m\n",
      "\u001b[2;36m                    \u001b[0m         \u001b[35mpython3.9/site-packages/urllib3/\u001b[0m\u001b[95m__i\u001b[0m \u001b[2m               \u001b[0m\n",
      "\u001b[2;36m                    \u001b[0m         \u001b[95mnit__.py\u001b[0m:\u001b[1;36m35\u001b[0m: NotOpenSSLWarning:     \u001b[2m               \u001b[0m\n",
      "\u001b[2;36m                    \u001b[0m         urllib3 v2 only supports OpenSSL    \u001b[2m               \u001b[0m\n",
      "\u001b[2;36m                    \u001b[0m         \u001b[1;36m1.1\u001b[0m.\u001b[1;36m1\u001b[0m+, currently the \u001b[32m'ssl'\u001b[0m module  \u001b[2m               \u001b[0m\n",
      "\u001b[2;36m                    \u001b[0m         is compiled with \u001b[32m'LibreSSL 2.8.3'\u001b[0m.  \u001b[2m               \u001b[0m\n",
      "\u001b[2;36m                    \u001b[0m         See:                                \u001b[2m               \u001b[0m\n",
      "\u001b[2;36m                    \u001b[0m         \u001b[4;94mhttps://github.com/urllib3/urllib3/\u001b[0m \u001b[2m               \u001b[0m\n",
      "\u001b[2;36m                    \u001b[0m         \u001b[4;94missues/3020\u001b[0m                         \u001b[2m               \u001b[0m\n",
      "\u001b[2;36m                    \u001b[0m           \u001b[1;35mwarnings.warn\u001b[0m\u001b[1m(\u001b[0m                    \u001b[2m               \u001b[0m\n",
      "\u001b[2;36m                    \u001b[0m                                             \u001b[2m               \u001b[0m\n"
     ]
    },
    {
     "data": {
      "text/html": [
       "<pre style=\"white-space:pre;overflow-x:auto;line-height:normal;font-family:Menlo,'DejaVu Sans Mono',consolas,'Courier New',monospace\"></pre>\n"
      ],
      "text/plain": []
     },
     "metadata": {},
     "output_type": "display_data"
    },
    {
     "data": {
      "text/html": [
       "<a href=\"http://127.0.0.1:4141/\" target=\"_blank\">Open Kedro-Viz</a>"
      ],
      "text/plain": [
       "\u001b[1m<\u001b[0m\u001b[1;95mIPython.core.display.HTML\u001b[0m\u001b[39m object\u001b[0m\u001b[1m>\u001b[0m"
      ]
     },
     "metadata": {},
     "output_type": "display_data"
    }
   ],
   "source": [
    "run_viz"
   ]
  }
 ],
 "metadata": {
  "kernelspec": {
   "display_name": "venv",
   "language": "python",
   "name": "python3"
  },
  "language_info": {
   "codemirror_mode": {
    "name": "ipython",
    "version": 3
   },
   "file_extension": ".py",
   "mimetype": "text/x-python",
   "name": "python",
   "nbconvert_exporter": "python",
   "pygments_lexer": "ipython3",
   "version": "3.9.6"
  }
 },
 "nbformat": 4,
 "nbformat_minor": 2
}
